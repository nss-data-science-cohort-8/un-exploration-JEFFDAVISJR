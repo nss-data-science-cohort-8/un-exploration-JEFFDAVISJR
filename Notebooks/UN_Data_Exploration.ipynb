{
 "cells": [
  {
   "cell_type": "markdown",
   "id": "118e6b45-bde2-4593-ae00-301c447fa043",
   "metadata": {},
   "source": [
    "## An Exploration of UN data\n",
    "In this project, you'll be doing some exploratory analysis on two country-level metrics, gross domestic product (GDP) per capita and overall life expectancy. After completing the guided practice section, you will have a chance to find some additional data and do some more exploring of your own.\n",
    "\n",
    "### Guided Practice:\n",
    " 1.\tDownload the Gross Domestic Product (GDP) per capita dataset from [http://data.un.org/Data.aspx?d=WDI&f=Indicator_Code%3aNY.GDP.PCAP.PP.KD](http://data.un.org/Data.aspx?d=WDI&f=Indicator_Code%3aNY.GDP.PCAP.PP.KD). Rename it to gdp_per_capita.csv and place it in the `data` folder of your project repository.\n",
    "\n",
    "2. Create a Jupyter Notebook in the `notebooks` folder and name it `UN_Data_Exploration`.\n",
    "    *  You are likely to get errors along the way. When you do, read the errors to try to understand what is happening and how to correct it.\n",
    "    * Use markdown cells to record your answers to any questions asked in this exercise. On the menu bar, you can toggle the cell type from 'Code' to 'Markdown'. [Here](https://www.markdownguide.org/cheat-sheet/) is a link to a cheat sheet showing the basics of styling text using Markdown.\n",
    "\n",
    "\n",
    "\n",
    "\n",
    "\n",
    "\n",
    "**Bonus:** Put both line charts on the same plot.\n",
    "\n",
    "17. Read in continents.csv contained in the `data` folder into a new dataframe called `continents`. We will be using this dataframe to add a new column to our dataset.\n",
    "\n",
    "18. Merge gdp_df and continents. Keep only the countries that appear in both data frames. Save the result back to gdp_df.\n",
    "\n",
    "19. Determine the number of countries per continent. Create a bar chart showing this.\n",
    "\n",
    "20. Create a seaborn boxplot showing GDP per capita in 2021 split out by continent. What do you notice?\n",
    "\n",
    "21. Download the full csv containing Life expectancy at birth, total (years) from [https://data.worldbank.org/indicator/SP.DYN.LE00.IN?name_desc=false](https://data.worldbank.org/indicator/SP.DYN.LE00.IN?name_desc=false). Read this data into a DataFrame named `life_expectancy`. Note: When reading this dataset it, you may encounter an error. Modify your `read_csv` call to correct this **without modifying the original csv file**.\n",
    " \n",
    "22. Drop the Country Code, Indicator Name, and Indicator Code columns. Then use [`.melt()`](https://pandas.pydata.org/docs/reference/api/pandas.melt.html) to convert your data from wide to long. That is, instead of having one row per country and multiple colums per year, we want to have multiple rows per country and a single column for year. After melting, rename the columns to `Country`, `Year`, and `Life_Expectancy`.\n",
    "\n",
    "23. What was the first country with a life expectancy to exceed 80?\n",
    "\n",
    "24. Merge `gdp_df` and `life_expectancy`, keeping all countries and years that appear in both DataFrames. Save the result to a new DataFrame named `gdp_le`. If you get any errors in doing this, read them carefully and correct them. Look at the first five rows of your new data frame to confirm it merged correctly. Also, check the last five rows to make sure the data is clean and as expected.\n",
    "\n",
    "25. Create a new DataFrame, named `gdp_le_2021` by extracting data for the year 2021 from `gdp_le`. How many countries have a life expectancy of at least 80 in 2021?\n",
    "\n",
    "26. Find the countries that had the top 3 largest GDP per capita figures for 2021. Create a [seaborn FacetGrid](https://seaborn.pydata.org/generated/seaborn.FacetGrid.html) showing the change in life expectancy over time for these three countries. Each individual figure in the facet grid will represent a single country.\n",
    "\n",
    "27. Create a scatter plot of Life Expectancy vs GDP per Capita for the year 2021. What do you notice?\n",
    "\n",
    "28. Find the correlation between Life Expectancy and GDP per Capita for the year 2021. What is the meaning of this number?\n",
    "\n",
    "29. Add a column to `gdp_le_2021` and calculate the logarithm of GDP per capita. Find the correlation between the log of GDP per capita and life expectancy. How does this compare to the calculation in the previous part? Look at a scatter plot to see if the result of this calculation makes sense.\n",
    "\n",
    "### Bonus: Solo Exploration:\n",
    "1. Choose and download another data set from the UN data [http://data.un.org/Explorer.aspx](http://data.un.org/Explorer.aspx) to explore. You may want to combine your new dataset with one or both of the datasets that you already worked with. Report any interesting correlations or trends that you find. \n",
    "2.    If time allows, check out the plotly library to add additional interativity to your plots. [https://plotly.com/python/plotly-express/](https://plotly.com/python/plotly-express/)."
   ]
  },
  {
   "cell_type": "markdown",
   "id": "0db35668-47f7-49f3-88bf-7dc028104f41",
   "metadata": {},
   "source": [
    "3.\tIn the first cell of your notebook, import the required packages with their customary aliases as follows:\n",
    "\n",
    "    `import pandas as pd`   \n",
    "    `import numpy as np`  \n",
    "    `import matplotlib.pyplot as plt`  \n",
    "    `import seaborn as sns`\n",
    "    \n",
    "    Keep all imports in this cell at the top of your notebook."
   ]
  },
  {
   "cell_type": "code",
   "execution_count": null,
   "id": "83bb069e-971a-405d-8c40-ec0a84260c38",
   "metadata": {},
   "outputs": [],
   "source": [
    "import pandas as pd"
   ]
  },
  {
   "cell_type": "markdown",
   "id": "ced3dc02-891f-46f0-a77b-b9c7809bab37",
   "metadata": {},
   "source": [
    "4.\tUsing the pandas `read_csv()` function, read the GDP dataset into your notebook as a DataFrame called `gdp_df`. After reading it in, inspect the first 10 rows and then inspect the last 10 rows. "
   ]
  },
  {
   "cell_type": "code",
   "execution_count": null,
   "id": "8c07674e-0133-4a7a-9def-b67928cd9452",
   "metadata": {},
   "outputs": [],
   "source": [
    "gdp = pd.read_csv('../Data/gdp_per_capita.csv')\n",
    "gdp.head()"
   ]
  },
  {
   "cell_type": "markdown",
   "id": "b34fd9de-97b5-44a8-a99e-e435ab958f38",
   "metadata": {},
   "source": [
    "5. Drop the 'Value Footnotes' column, and rename the remaining columns to 'Country', 'Year', and 'GDP_Per_Capita'."
   ]
  },
  {
   "cell_type": "code",
   "execution_count": null,
   "id": "179c5526-6d7c-4165-8274-61d6a621e613",
   "metadata": {},
   "outputs": [],
   "source": [
    "gdp_dropped = gdp.drop(['Value Footnotes'], axis = 1)\n",
    "gdp_dropped.head(1)"
   ]
  },
  {
   "cell_type": "markdown",
   "id": "834df5e2-1b1e-49e0-a320-76b142692579",
   "metadata": {},
   "source": [
    "6. How many rows and columns does gdp_df have? What are the data types of its columns? If any of the columns are not the expected types, figure out why and fix it."
   ]
  },
  {
   "cell_type": "code",
   "execution_count": null,
   "id": "215e2962-563b-4868-9248-ba9303cd4476",
   "metadata": {},
   "outputs": [],
   "source": [
    "gdp_dropped.shape"
   ]
  },
  {
   "cell_type": "code",
   "execution_count": null,
   "id": "1028abb1-2ae5-4863-bcef-a5e06fe67180",
   "metadata": {},
   "outputs": [],
   "source": [
    "gdp_dropped.info()\n",
    "#gdp_dropped.dtypes"
   ]
  },
  {
   "cell_type": "markdown",
   "id": "ac9a2eaf-31d2-4f65-9d7f-8237bcbcba70",
   "metadata": {},
   "source": [
    "7. Create a new dataframe by subsetting `gdp_df` to just the year 2021. Call this new dataframe `gdp_20121`."
   ]
  },
  {
   "cell_type": "code",
   "execution_count": null,
   "id": "34df1e28-42e3-4487-8fb6-a3c86845ab45",
   "metadata": {},
   "outputs": [],
   "source": [
    "gdp_2021 = gdp_dropped[gdp_dropped['Year'] == 2021]\n",
    "gdp_2021.head()"
   ]
  },
  {
   "cell_type": "markdown",
   "id": "d33f8478-7066-45ae-b247-56a6990b0ed7",
   "metadata": {},
   "source": [
    "8. How many countries are represented in this dataset? Which countries are least represented in the dataset? Why do you think these countries have so few observations?"
   ]
  },
  {
   "cell_type": "code",
   "execution_count": null,
   "id": "88e6c712-f8dd-4380-8528-e0f4bac78537",
   "metadata": {},
   "outputs": [],
   "source": [
    "gdp_countries = gdp_dropped['Country or Area'].value_counts().reset_index()\n",
    "#gdp_countries.sort_values(by = 'count', ascending = True)\n",
    "gdp_countries.tail()"
   ]
  },
  {
   "cell_type": "code",
   "execution_count": null,
   "id": "b7bb17c9-b1e1-4cd0-8ed5-3cd917cba4b2",
   "metadata": {},
   "outputs": [],
   "source": [
    "#afghanistan = gdp_countries[gdp_countries['Country or Area'] == 'Afghanistan']\n",
    "#afghanistan.head()\n",
    "\n",
    "tenbelow = gdp_countries[gdp_countries['count'] <= 10]\n",
    "tenbelow.head()"
   ]
  },
  {
   "cell_type": "markdown",
   "id": "8ea23415-4586-420a-9d56-2b363acc7ca7",
   "metadata": {},
   "source": [
    "10. Use `.describe()` to find the summary statistics for GDP per capita in 2021. "
   ]
  },
  {
   "cell_type": "code",
   "execution_count": null,
   "id": "097dc121-7dd1-4ff7-8eaf-55e70c92bc51",
   "metadata": {},
   "outputs": [],
   "source": [
    "describe_2021 = gdp_2021['Value'].describe().reset_index()\n",
    "describe_2021 = describe_2021.rename(columns={'index':'Index'})\n",
    "describe_2021"
   ]
  },
  {
   "cell_type": "markdown",
   "id": "56f3e32d-04ce-4a73-8622-f10e34f005de",
   "metadata": {},
   "source": [
    "11. Create a histogram of GDP Per Capita numbers for 2021 (you may wish to adjust the number of bins for your histogram). How would you describe the shape of the distribution?"
   ]
  },
  {
   "cell_type": "code",
   "execution_count": null,
   "id": "978d2977-e708-48d0-9781-7f84218a9411",
   "metadata": {},
   "outputs": [],
   "source": [
    "gdp_2021.hist(column='Value',bins = 20)"
   ]
  },
  {
   "cell_type": "markdown",
   "id": "9341b0c5-b4ba-4e75-9928-423851d0351f",
   "metadata": {},
   "source": [
    "12. Find the top 5 counties and bottom 5 countries by GDP per capita in 2021."
   ]
  },
  {
   "cell_type": "code",
   "execution_count": null,
   "id": "6dbb0fbc-4b70-465f-af0c-66d4de97e882",
   "metadata": {},
   "outputs": [],
   "source": [
    "top_five_gdp_2021 = gdp_2021.nlargest(columns ='Value',n= 5)\n",
    "top_five_gdp_2021.head()"
   ]
  },
  {
   "cell_type": "code",
   "execution_count": null,
   "id": "22f9061d-6a16-4509-a539-cd3cb84b5886",
   "metadata": {},
   "outputs": [],
   "source": [
    "bottom_five_gdp_2021 = gdp_2021.nsmallest(columns ='Value',n= 5)\n",
    "bottom_five_gdp_2021.head()"
   ]
  },
  {
   "cell_type": "markdown",
   "id": "e9638c31-e56b-4a02-ab0e-ecbf0ba25a42",
   "metadata": {},
   "source": [
    "13. Now, return to the full dataset, `gdp_df`. Pivot the data for 1990 and 2021 (using the pandas `.pivot_table()` method or another method) so that each row corresponds to a country, each column corresponds to a year, and the values in the table give the GDP_Per_Capita amount. Drop any rows that are missing values for either 1990 or 2021. Save the result to a dataframe named `gdp_pivoted`."
   ]
  },
  {
   "cell_type": "code",
   "execution_count": null,
   "id": "d9e46a92-1fb2-4eed-99d6-1b6c9e95b0fd",
   "metadata": {},
   "outputs": [],
   "source": [
    "IsNullList = gdp_dropped[(gdp_dropped['Year'] == 1990) | gdp_dropped['Year'] == 2021]\n",
    "IsNullList.head()"
   ]
  },
  {
   "cell_type": "code",
   "execution_count": null,
   "id": "ec403443-4648-42a8-b5b9-ddd940fccbf8",
   "metadata": {},
   "outputs": [],
   "source": [
    "\n",
    "\n",
    "pivot = pd.pivot_table(gdp_dropped, values='Value', index=['Country or Area'],\n",
    "\n",
    "                       columns=['Year'], aggfunc=\"sum\")\n",
    "\n",
    "pivot.head()"
   ]
  },
  {
   "cell_type": "markdown",
   "id": "c6532c5e-8c2f-47cd-ac55-28b34a3fce52",
   "metadata": {},
   "source": [
    "14. Create a new column in `gdp_pivoted` named `Percent_Change`. This column should contain the percent change in GDP_Per_Capita from 1990 to 2021. Hint: Percent change is calculated as 100*(New Value - Old Value) / Old Value."
   ]
  },
  {
   "cell_type": "markdown",
   "id": "6f0157bf-7d47-459f-87bc-3f9719988a64",
   "metadata": {},
   "source": [
    "15. How many countries experienced a negative percent change in GDP per capita from 1990 to 2021?"
   ]
  },
  {
   "cell_type": "code",
   "execution_count": null,
   "id": "5c1d86f0-35e5-42d9-a509-892462942ad4",
   "metadata": {},
   "outputs": [],
   "source": [
    "16. Which country had the highest % change in GDP per capita? Create a line plot showing this country's GDP per capita for all years from 1990 to 2018. Create another showing the country with the second highest % change in GDP. How do the trends in these countries compare?  "
   ]
  },
  {
   "cell_type": "markdown",
   "id": "0f836e8b-b01b-46e8-a0b1-08c10dcc5775",
   "metadata": {},
   "source": []
  }
 ],
 "metadata": {
  "kernelspec": {
   "display_name": "Python 3 (ipykernel)",
   "language": "python",
   "name": "python3"
  },
  "language_info": {
   "codemirror_mode": {
    "name": "ipython",
    "version": 3
   },
   "file_extension": ".py",
   "mimetype": "text/x-python",
   "name": "python",
   "nbconvert_exporter": "python",
   "pygments_lexer": "ipython3",
   "version": "3.12.4"
  }
 },
 "nbformat": 4,
 "nbformat_minor": 5
}
