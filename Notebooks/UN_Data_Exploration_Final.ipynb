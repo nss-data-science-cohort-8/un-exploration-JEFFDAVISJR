{
 "cells": [
  {
   "cell_type": "markdown",
   "id": "118e6b45-bde2-4593-ae00-301c447fa043",
   "metadata": {},
   "source": [
    "## An Exploration of UN data\n",
    "This project is an exploratory analysis on two country-level metrics, gross domestic product (GDP) per capita and overall life expectancy. \n",
    "### Data Source:\n",
    " [http://data.un.org/Data.aspx?d=WDI&f=Indicator_Code%3aNY.GDP.PCAP.PP.KD](http://data.un.org/Data.aspx?d=WDI&f=Indicator_Code%3aNY.GDP.PCAP.PP.KD). "
   ]
  },
  {
   "cell_type": "code",
   "execution_count": null,
   "id": "83bb069e-971a-405d-8c40-ec0a84260c38",
   "metadata": {},
   "outputs": [],
   "source": [
    "import pandas as pd\n",
    "import numpy as np\n",
    "import matplotlib.pyplot as plt\n",
    "import seaborn as sns"
   ]
  },
  {
   "cell_type": "markdown",
   "id": "ced3dc02-891f-46f0-a77b-b9c7809bab37",
   "metadata": {},
   "source": [
    "### Read in Data"
   ]
  },
  {
   "cell_type": "code",
   "execution_count": null,
   "id": "8c07674e-0133-4a7a-9def-b67928cd9452",
   "metadata": {},
   "outputs": [],
   "source": [
    "gdp = pd.read_csv('../Data/gdp_per_capita.csv')"
   ]
  },
  {
   "cell_type": "markdown",
   "id": "b34fd9de-97b5-44a8-a99e-e435ab958f38",
   "metadata": {},
   "source": [
    "### Dropping and Renaming Columns"
   ]
  },
  {
   "cell_type": "code",
   "execution_count": null,
   "id": "179c5526-6d7c-4165-8274-61d6a621e613",
   "metadata": {},
   "outputs": [],
   "source": [
    "gdp = gdp.drop(['Value Footnotes'], axis = 1)\n",
    "gdp = gdp.rename(columns={'Country or Area':'Country','Value':'GDP'})"
   ]
  },
  {
   "cell_type": "markdown",
   "id": "834df5e2-1b1e-49e0-a320-76b142692579",
   "metadata": {},
   "source": [
    "### Data frame dimensions and data types\n",
    "* Find the number of rows and columns\n",
    "* Find the data types of its columns\n",
    "* Fix data types if necessary"
   ]
  },
  {
   "cell_type": "code",
   "execution_count": null,
   "id": "215e2962-563b-4868-9248-ba9303cd4476",
   "metadata": {},
   "outputs": [],
   "source": [
    "row_count = gdp.shape[0]\n",
    "col_count = gdp.shape[1]\n",
    "print(f'There are {row_count:,} rows and {col_count:,} columns in the \"gdp\" data frame')"
   ]
  },
  {
   "cell_type": "code",
   "execution_count": null,
   "id": "d5608972-e5c4-4fcd-ae6b-0e07b345f123",
   "metadata": {},
   "outputs": [],
   "source": [
    "gdp['Year'] = gdp['Year'].astype(str)"
   ]
  },
  {
   "cell_type": "code",
   "execution_count": null,
   "id": "81f8b945-89c4-431a-a7f0-0dfa5a579d09",
   "metadata": {},
   "outputs": [],
   "source": [
    "gdp['Year'] = gdp['Year'].astype(str)\n",
    "gdp.dtypes"
   ]
  },
  {
   "cell_type": "markdown",
   "id": "ac9a2eaf-31d2-4f65-9d7f-8237bcbcba70",
   "metadata": {},
   "source": [
    "### Exploring the year 2021\n",
    "* Create a new dataframe by subsetting `gdp` to just the year 2021\n",
    "* Number of countries are represented in 2021\n",
    "* Countries are least represented in the accross all years\n",
    "* Why so few observations\n",
    "* Use `.describe()` to find the summary statistics for GDP per capita in 2021.\n",
    "* Create a histogram of GDP Per Capita numbers for 2021 (you may wish to adjust the number of bins for your histogram).\n",
    "* Find the top 5 counties and bottom 5 countries by GDP per capita in 2021."
   ]
  },
  {
   "cell_type": "code",
   "execution_count": null,
   "id": "34df1e28-42e3-4487-8fb6-a3c86845ab45",
   "metadata": {},
   "outputs": [],
   "source": [
    "gdp_2021 = gdp[gdp['Year'] == '2021']\n",
    "unique_countries = gdp_2021['Country'].nunique()\n",
    "print(f'In 2021 there were {unique_countries} represented')"
   ]
  },
  {
   "cell_type": "code",
   "execution_count": null,
   "id": "88e6c712-f8dd-4380-8528-e0f4bac78537",
   "metadata": {},
   "outputs": [],
   "source": [
    "gdp_least_represented = gdp['Country'].value_counts().reset_index()\n",
    "gdp_least_represented = gdp_least_represented.nsmallest(5, 'count')"
   ]
  },
  {
   "cell_type": "code",
   "execution_count": null,
   "id": "cfc1fb92-d078-41f7-974c-b45503719b13",
   "metadata": {},
   "outputs": [],
   "source": [
    "least_represented_list = gdp_least_represented['Country']\n",
    "years_in_lrl = gdp[gdp['Country'].isin(least_represented_list)]"
   ]
  },
  {
   "cell_type": "code",
   "execution_count": null,
   "id": "097dc121-7dd1-4ff7-8eaf-55e70c92bc51",
   "metadata": {},
   "outputs": [],
   "source": [
    "describe_2021 = gdp_2021['GDP'].describe().reset_index()\n",
    "describe_2021 = describe_2021.rename(columns={'index':'Index'})\n",
    "describe_2021"
   ]
  },
  {
   "cell_type": "markdown",
   "id": "56f3e32d-04ce-4a73-8622-f10e34f005de",
   "metadata": {},
   "source": [
    "The shape of the distribution below is skewed to the right."
   ]
  },
  {
   "cell_type": "code",
   "execution_count": null,
   "id": "978d2977-e708-48d0-9781-7f84218a9411",
   "metadata": {},
   "outputs": [],
   "source": [
    "gdp_2021.hist(column='GDP',bins = 20)\n",
    "print('The shape of the distribution below is skewed to the right.')"
   ]
  },
  {
   "cell_type": "code",
   "execution_count": null,
   "id": "6dbb0fbc-4b70-465f-af0c-66d4de97e882",
   "metadata": {},
   "outputs": [],
   "source": [
    "top_five_gdp_2021 = gdp_2021.nlargest(columns ='GDP',n= 5)\n",
    "top_five_gdp_2021.head()"
   ]
  },
  {
   "cell_type": "code",
   "execution_count": null,
   "id": "22f9061d-6a16-4509-a539-cd3cb84b5886",
   "metadata": {},
   "outputs": [],
   "source": [
    "bottom_five_gdp_2021 = gdp_2021.nsmallest(columns ='GDP',n= 5)\n",
    "bottom_five_gdp_2021.head()"
   ]
  },
  {
   "cell_type": "markdown",
   "id": "4d9570d5-7d82-4476-9f49-3a8bd5ecb847",
   "metadata": {},
   "source": [
    "### Comparing 2021 with other years\n",
    "* Pivot the data for 1990 and 2021\n",
    "* Drop any rows that are missing values for either 1990 or 2021.\n",
    "* Create a new column in `gdp_pivoted` named `Percent_Change`.\n",
    "* Show the top two countries in terms of growth when comparing GDP in 1990 and 2021"
   ]
  },
  {
   "cell_type": "code",
   "execution_count": null,
   "id": "d9e46a92-1fb2-4eed-99d6-1b6c9e95b0fd",
   "metadata": {},
   "outputs": [],
   "source": [
    "gdp_1990_2021 = gdp[(gdp['Year'] == '1990') | (gdp['Year'] == '2021')]\n",
    "gdp_pivoted = pd.pivot_table(gdp_1990_2021, values='GDP', index=['Country'],\n",
    "\n",
    "                       columns=['Year'], aggfunc=\"sum\")\n",
    "\n",
    "null_list = gdp_pivoted.isna()\n",
    "null_list = null_list[(null_list['1990'] == True) | (null_list['2021'] == True)]\n",
    "null_list = null_list.index.to_list()\n",
    "\n",
    "filtered_gdp_pivoted = gdp_pivoted[~gdp_pivoted.index.isin(null_list)]\n",
    "\n",
    "filtered_gdp_pivoted = filtered_gdp_pivoted.copy()\n",
    "filtered_gdp_pivoted['Percent_Change'] = (\n",
    "    (filtered_gdp_pivoted['2021'] - filtered_gdp_pivoted['1990']) / filtered_gdp_pivoted['1990']) * 100"
   ]
  },
  {
   "cell_type": "code",
   "execution_count": null,
   "id": "7c3d19f9-dde1-462c-9ced-0d59127e6600",
   "metadata": {},
   "outputs": [],
   "source": [
    "negative_growth = filtered_gdp_pivoted[filtered_gdp_pivoted['Percent_Change'] <0]\n",
    "negative_growth.sort_values(by = 'Percent_Change')\n",
    "change_count = len(negative_growth.index)\n",
    "print(f'A total of {change_count} countries experienced negative GDP growth from 1990 to 2021')"
   ]
  },
  {
   "cell_type": "code",
   "execution_count": null,
   "id": "d24f04ea-a179-405a-b805-4b5a929cebe2",
   "metadata": {},
   "outputs": [],
   "source": [
    "first_percent_change = filtered_gdp_pivoted.nlargest(1, 'Percent_Change')\n",
    "second_percent_change = filtered_gdp_pivoted.nlargest(2, 'Percent_Change')\n",
    "eqg_china = gdp[(gdp['Country'] == 'Equatorial Guinea') | (gdp['Country'] == 'China')]\n",
    "eqg_china = eqg_china.reset_index()\n",
    "eqg_china['Year'] = eqg_china['Year'].astype(float)\n",
    "sns.lineplot(x='Year', y='GDP', data=eqg_china, hue='Country')"
   ]
  },
  {
   "cell_type": "markdown",
   "id": "3092fb9c-5666-4517-a93a-c894d49988f7",
   "metadata": {},
   "source": [
    "### Comparing continent trends\n",
    "* Read in continents data and merge with gdp data frame\n",
    "* Countries are least represented in the accross all years\n",
    "* Why so few observations\n",
    "* Use `.describe()` to find the summary statistics for GDP per capita in 2021.\n",
    "* Create a histogram of GDP Per Capita numbers for 2021 (you may wish to adjust the number of bins for your histogram).\n",
    "* Find the top 5 counties and bottom 5 countries by GDP per capita in 2021."
   ]
  },
  {
   "cell_type": "code",
   "execution_count": null,
   "id": "4e4f58dd-890b-4ad5-b7cc-f219ce134cd7",
   "metadata": {},
   "outputs": [],
   "source": [
    "continents = pd.read_csv('../data/continents.csv')\n",
    "gdp_continents = pd.merge(gdp, continents, on = 'Country', how = 'inner')\n",
    "countries_per_continent = gdp_continents.groupby('Continent')['Country'].nunique().reset_index(name = 'Country_Count')\n",
    "\n",
    "plt.bar(countries_per_continent.Continent,\n",
    "        countries_per_continent.Country_Count)\n",
    "plt.ylabel('Count')\n",
    "plt.xlabel('Continent')\n",
    "plt.title('Countries by Continent')\n",
    "plt.xticks(rotation = 90)\n",
    "plt.show()"
   ]
  },
  {
   "cell_type": "markdown",
   "id": "0e854a5e-882c-47e5-a44d-4ae6b3512962",
   "metadata": {},
   "source": [
    "### Exploring the relationship between GDP and Life Expectancy\n",
    "* Read in life expectancy data: [https://data.worldbank.org/indicator/SP.DYN.LE00.IN?name_desc=false](https://data.worldbank.org/indicator/SP.DYN.LE00.IN?name_desc=false). \n",
    "* Use [`.melt()`](https://pandas.pydata.org/docs/reference/api/pandas.melt.html) to convert your data from wide to long.\n",
    "* First country to exceed life expectancy of 80 years old\n",
    "* Find the countries that had the top 3 largest GDP per capita figures for 2021.\n",
    "* Create facet gridshowing the change in life expectancy over time for these three countries.\n",
    "* Create a scatter plot of Life Expectancy vs GDP per Capita for the year 2021.\n",
    "* Find the correlation between Life Expectancy and GDP per Capita for the year 2021.\n",
    "* Add a column to `gdp_le_2021` and calculate the logarithm of GDP per capita. Find the correlation between the log of GDP per capita and life expectancy."
   ]
  },
  {
   "cell_type": "code",
   "execution_count": null,
   "id": "c7f2a25a-04b4-4789-bd5a-852ee1c0f394",
   "metadata": {},
   "outputs": [],
   "source": [
    "le = pd.read_csv('../data/life_exp.csv')\n",
    "le = le.drop(columns=['Country Code', 'Indicator Name', 'Indicator Code'])\n",
    "le_melt = pd.melt(le, id_vars = 'Country Name', var_name = 'Year', value_name = 'Life_exp')\n",
    "le_melt = le_melt.rename(columns = {'Country Name' : 'Country'})\n",
    "gdp_le = pd.merge(gdp, le_melt, on = ['Country','Year'], how = 'inner')"
   ]
  },
  {
   "cell_type": "code",
   "execution_count": null,
   "id": "a3b5d7d0-9484-4926-a8cd-7e3ee4ac39c2",
   "metadata": {},
   "outputs": [],
   "source": [
    "first_to_eighty = le_melt[le_melt['Life_exp'] >= 80]\n",
    "first_to_eighty_filtered = first_to_eighty[first_to_eighty['Year'] == first_to_eighty['Year'].min()]\n",
    "first_country = first_to_eighty_filtered.iloc[0,0]\n",
    "print(f'{first_country} was the first country to exceed a life expectancy of 80 years old')"
   ]
  },
  {
   "cell_type": "code",
   "execution_count": null,
   "id": "ff730272-b32d-4bc2-a0cc-8be3a05da2a5",
   "metadata": {},
   "outputs": [],
   "source": [
    "gdp_le_2021 = gdp_le[gdp_le['Year'] == '2021']"
   ]
  },
  {
   "cell_type": "code",
   "execution_count": null,
   "id": "a7ab48ce-c6d9-4007-a5be-842a9ae18613",
   "metadata": {},
   "outputs": [],
   "source": [
    "count_of_eighty = gdp_le_2021[gdp_le_2021['Life_exp']>=80]\n",
    "count_of_eighty= count_of_eighty.shape[0]\n",
    "print(f' In 2021 there were {count_of_eighty} that had a life expectancy of at least 80 years old')"
   ]
  },
  {
   "cell_type": "code",
   "execution_count": null,
   "id": "c058eb4e-4b96-40f5-a1a7-8f079b90faa0",
   "metadata": {},
   "outputs": [],
   "source": [
    "top_three = gdp_le_2021.nlargest(3,'GDP')['Country'].head().to_list()\n",
    "gdp_top_three = gdp_le[gdp_le['Country'].isin(top_three)]\n",
    "a = sns.FacetGrid(gdp_top_three, col = 'Country')\n",
    "a.map(sns.scatterplot,'Life_exp','GDP')\n",
    "a.add_legend();"
   ]
  },
  {
   "cell_type": "code",
   "execution_count": null,
   "id": "f9c99300-5a89-4e93-b73d-7a54209b7d62",
   "metadata": {},
   "outputs": [],
   "source": [
    "gdp_le_2021.plot(kind = 'scatter', x = 'GDP', y = 'Life_exp', figsize = (6,4))\n",
    "plt.title(' GDP v Life Exp');"
   ]
  },
  {
   "cell_type": "code",
   "execution_count": null,
   "id": "36ab2967-314e-4108-a356-8a562333b44a",
   "metadata": {},
   "outputs": [],
   "source": [
    "corr_coef = gdp_le_2021[['Life_exp','GDP']].corr().iloc[0,1]\n",
    "corr_coef\n",
    "\n",
    "print(f' A correlation coefficient of {corr_coef:.2f} indicates a strong relationship between two variables')"
   ]
  },
  {
   "cell_type": "markdown",
   "id": "0dac9170-2796-4b94-bb5f-63fb1793d831",
   "metadata": {},
   "source": [
    "How does this compare to the calculation in the previous part? Look at a scatter plot to see if the result of this calculation makes sense."
   ]
  },
  {
   "cell_type": "code",
   "execution_count": null,
   "id": "a5f946da-e833-4c82-adcc-0cda518e4f19",
   "metadata": {},
   "outputs": [],
   "source": [
    "gdp_le_2021 = gdp_le_2021.copy()\n",
    "gdp_le_2021['GDP_log'] = np.log(gdp_le_2021['GDP'])\n",
    "corr_coef_log = gdp_le_2021[['Life_exp','GDP_log']].corr().iloc[0,1]\n",
    "corr_coef_log\n",
    "\n",
    "print(f' Converting the GDP to a log scale increased the score to {corr_coef_log:.2f}')"
   ]
  },
  {
   "cell_type": "code",
   "execution_count": null,
   "id": "85c6d8ae-3653-41de-abf9-dfd8f1bcc52f",
   "metadata": {},
   "outputs": [],
   "source": [
    "gdp_le_2021.plot(kind = 'scatter', x = 'GDP_log', y = 'Life_exp', figsize = (6,4))\n",
    "print('Using the log scale of GDP seems to make the relationship stronger')\n",
    "plt.title(' GDP v Life Exp');"
   ]
  },
  {
   "cell_type": "markdown",
   "id": "ecba26f6-c615-4ce3-9e41-26c41a43ef5e",
   "metadata": {},
   "source": [
    "### Bonus: Solo Exploration:\n",
    "* This section explores the relationship between GDP and the % of women in the labor force (Wmn_Lbr_Pct)\n",
    "* Read in women labor particpation data\n",
    "* Merge with gdp and continents data\n",
    "* Find the correlation coefficents for each country/each continent"
   ]
  },
  {
   "cell_type": "code",
   "execution_count": null,
   "id": "92514f99-3ebb-46f1-8672-6f0edac30771",
   "metadata": {},
   "outputs": [],
   "source": [
    "wmn_lbr = pd.read_csv('../Data/wmn_lbr.csv')\n",
    "wmn_lbr = wmn_lbr.drop(columns = ['Subgroup', 'Source', 'Unit', 'Value Footnotes'])\n",
    "wmn_lbr = wmn_lbr.rename(columns = {'Country or Area' : 'Country','Value' : 'Wmn_Lbr_Pct'})\n",
    "wmn_lbr['Year'] = wmn_lbr['Year'].astype(str)\n",
    "wmn_lbr['Year'] = wmn_lbr['Year'].str.replace('.0',' ')\n",
    "\n",
    "wmn_gdp = pd.merge(wmn_lbr,gdp_le, on = ['Country','Year'], how = 'inner')\n",
    "wmn_gdp = pd.merge(wmn_gdp, continents, on = 'Country', how = 'inner')\n",
    "wmn_gdp[['Wmn_Lbr_Pct','GDP']].corr()"
   ]
  },
  {
   "cell_type": "code",
   "execution_count": null,
   "id": "b4fd2d9b-5eca-4582-b145-508a6b357260",
   "metadata": {},
   "outputs": [],
   "source": [
    "# Finding the correlation coefficents for each country\n",
    "results = []\n",
    "\n",
    "for country in wmn_gdp['Country'].unique():\n",
    "    subset = wmn_gdp[wmn_gdp['Country'] == country]\n",
    "    correlation = subset[['Wmn_Lbr_Pct', 'GDP']].corr().iloc[0, 1]  \n",
    "    results.append({'Country': country, 'Correlation': correlation})  \n",
    "\n",
    "correlation_country = pd.DataFrame(results)\n",
    "\n",
    "correlation_country = pd.merge(correlation_country, continents, on = ['Country'], how = 'inner')"
   ]
  },
  {
   "cell_type": "code",
   "execution_count": null,
   "id": "c779437e-8fc0-4755-a7c9-e41e436a5503",
   "metadata": {},
   "outputs": [],
   "source": [
    "correlation_country.hist(column='Correlation',bins =10)\n",
    "print('It looks like a large number of countries show a moderate to strong relationship')"
   ]
  },
  {
   "cell_type": "code",
   "execution_count": null,
   "id": "f7572561-6a55-4fba-ad44-8a8d4b087c65",
   "metadata": {},
   "outputs": [],
   "source": [
    "bins = pd.cut(correlation_country['Correlation'], bins=10)\n",
    "value_counts = bins.value_counts(normalize = True).sort_index().reset_index()\n",
    "max_corr_bin = value_counts.iloc[9,0]\n",
    "max_corr_bin_pct = value_counts.iloc[9,1]"
   ]
  },
  {
   "cell_type": "code",
   "execution_count": null,
   "id": "86a40a21-cbbc-4b5b-be8b-50647a3d9992",
   "metadata": {},
   "outputs": [],
   "source": [
    "print(f'{max_corr_bin_pct * 100:.1f}% of countries fell between {max_corr_bin}')"
   ]
  },
  {
   "cell_type": "code",
   "execution_count": null,
   "id": "d5129eb1-6fa9-4b07-a47f-afaa84656fb9",
   "metadata": {},
   "outputs": [],
   "source": [
    "correlation_country['Correlation'].describe()"
   ]
  },
  {
   "cell_type": "code",
   "execution_count": null,
   "id": "c2d85ba3-93d8-413d-9894-37fabb808831",
   "metadata": {},
   "outputs": [],
   "source": [
    "sns.boxplot(y='Continent', x='Correlation', data=correlation_country, hue='Continent', palette='Set1')\n",
    "\n",
    "\n",
    "plt.title('Box Plot of Correlation by Continent')\n",
    "plt.xlabel('Correlation Coefficient')\n",
    "plt.ylabel('Continent')\n",
    "\n",
    "\n",
    "plt.show()"
   ]
  },
  {
   "cell_type": "code",
   "execution_count": null,
   "id": "b6cc0078-3471-436b-911b-efed0705a7a9",
   "metadata": {},
   "outputs": [],
   "source": [
    "results_continent = []\n",
    "\n",
    "for continent in wmn_gdp['Continent'].unique():\n",
    "    subset_continent = wmn_gdp[wmn_gdp['Continent'] == continent]\n",
    "    correlation_continent = subset_continent[['Wmn_Lbr_Pct', 'GDP']].corr().iloc[0, 1]\n",
    "    results_continent.append({'Continent': continent, 'Correlation': correlation_continent})\n",
    "\n",
    "correlation_continent_df = pd.DataFrame(results_continent)\n",
    "correlation_continent_df .head(10)"
   ]
  }
 ],
 "metadata": {
  "kernelspec": {
   "display_name": "Python 3 (ipykernel)",
   "language": "python",
   "name": "python3"
  },
  "language_info": {
   "codemirror_mode": {
    "name": "ipython",
    "version": 3
   },
   "file_extension": ".py",
   "mimetype": "text/x-python",
   "name": "python",
   "nbconvert_exporter": "python",
   "pygments_lexer": "ipython3",
   "version": "3.12.4"
  }
 },
 "nbformat": 4,
 "nbformat_minor": 5
}
