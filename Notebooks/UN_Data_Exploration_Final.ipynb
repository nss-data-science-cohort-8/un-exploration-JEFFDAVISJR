{
 "cells": [
  {
   "cell_type": "markdown",
   "id": "118e6b45-bde2-4593-ae00-301c447fa043",
   "metadata": {},
   "source": [
    "## An Exploration of UN data\n",
    "This project is an exploratory analysis on two country-level metrics, gross domestic product (GDP) per capita and overall life expectancy. \n",
    "### Data Source:\n",
    " [http://data.un.org/Data.aspx?d=WDI&f=Indicator_Code%3aNY.GDP.PCAP.PP.KD](http://data.un.org/Data.aspx?d=WDI&f=Indicator_Code%3aNY.GDP.PCAP.PP.KD). "
   ]
  },
  {
   "cell_type": "code",
   "execution_count": 5,
   "id": "83bb069e-971a-405d-8c40-ec0a84260c38",
   "metadata": {},
   "outputs": [],
   "source": [
    "import pandas as pd\n",
    "import numpy as np\n",
    "import matplotlib.pyplot as plt\n",
    "import seaborn as sns"
   ]
  },
  {
   "cell_type": "markdown",
   "id": "ced3dc02-891f-46f0-a77b-b9c7809bab37",
   "metadata": {},
   "source": [
    "### Read in Data"
   ]
  },
  {
   "cell_type": "code",
   "execution_count": 8,
   "id": "8c07674e-0133-4a7a-9def-b67928cd9452",
   "metadata": {},
   "outputs": [],
   "source": [
    "gdp = pd.read_csv('../Data/gdp_per_capita.csv')"
   ]
  },
  {
   "cell_type": "markdown",
   "id": "b34fd9de-97b5-44a8-a99e-e435ab958f38",
   "metadata": {},
   "source": [
    "### Dropping and Renaming Columns"
   ]
  },
  {
   "cell_type": "code",
   "execution_count": 11,
   "id": "179c5526-6d7c-4165-8274-61d6a621e613",
   "metadata": {},
   "outputs": [],
   "source": [
    "gdp = gdp.drop(['Value Footnotes'], axis = 1)\n",
    "gdp = gdp.rename(columns={'Country or Area':'Country','Value':'GDP'})"
   ]
  },
  {
   "cell_type": "markdown",
   "id": "834df5e2-1b1e-49e0-a320-76b142692579",
   "metadata": {},
   "source": [
    "### Data frame dimensions and data types\n",
    "* Find the number of rows and columns\n",
    "* Find the data types of its columns\n",
    "* Fix data types if necessary"
   ]
  },
  {
   "cell_type": "code",
   "execution_count": 14,
   "id": "215e2962-563b-4868-9248-ba9303cd4476",
   "metadata": {},
   "outputs": [
    {
     "name": "stdout",
     "output_type": "stream",
     "text": [
      "There are 7,662 rows and 3 columns in the \"gdp\" data frame\n"
     ]
    }
   ],
   "source": [
    "row_count = gdp.shape[0]\n",
    "col_count = gdp.shape[1]\n",
    "print(f'There are {row_count:,} rows and {col_count:,} columns in the \"gdp\" data frame')"
   ]
  },
  {
   "cell_type": "code",
   "execution_count": 16,
   "id": "d5608972-e5c4-4fcd-ae6b-0e07b345f123",
   "metadata": {},
   "outputs": [],
   "source": [
    "gdp['Year'] = gdp['Year'].astype(str)"
   ]
  },
  {
   "cell_type": "code",
   "execution_count": 18,
   "id": "81f8b945-89c4-431a-a7f0-0dfa5a579d09",
   "metadata": {},
   "outputs": [
    {
     "data": {
      "text/plain": [
       "Country     object\n",
       "Year        object\n",
       "GDP        float64\n",
       "dtype: object"
      ]
     },
     "execution_count": 18,
     "metadata": {},
     "output_type": "execute_result"
    }
   ],
   "source": [
    "gdp['Year'] = gdp['Year'].astype(str)\n",
    "gdp.dtypes"
   ]
  },
  {
   "cell_type": "markdown",
   "id": "ac9a2eaf-31d2-4f65-9d7f-8237bcbcba70",
   "metadata": {},
   "source": [
    "### Exploring the year 2021\n",
    "* Create a new dataframe by subsetting `gdp` to just the year 2021\n",
    "* Number of countries are represented in 2021\n",
    "* Countries are least represented in the accross all years\n",
    "* Why so few observations\n",
    "* Use `.describe()` to find the summary statistics for GDP per capita in 2021.\n",
    "* Create a histogram of GDP Per Capita numbers for 2021 (you may wish to adjust the number of bins for your histogram).\n",
    "* Find the top 5 counties and bottom 5 countries by GDP per capita in 2021."
   ]
  },
  {
   "cell_type": "code",
   "execution_count": 21,
   "id": "34df1e28-42e3-4487-8fb6-a3c86845ab45",
   "metadata": {},
   "outputs": [
    {
     "name": "stdout",
     "output_type": "stream",
     "text": [
      "In 2021 there were 241 represented\n"
     ]
    }
   ],
   "source": [
    "gdp_2021 = gdp[gdp['Year'] == '2021']\n",
    "unique_countries = gdp_2021['Country'].nunique()\n",
    "print(f'In 2021 there were {unique_countries} represented')"
   ]
  },
  {
   "cell_type": "code",
   "execution_count": 25,
   "id": "88e6c712-f8dd-4380-8528-e0f4bac78537",
   "metadata": {},
   "outputs": [],
   "source": [
    "gdp_least_represented = gdp['Country'].value_counts().reset_index()\n",
    "gdp_least_represented = gdp_least_represented.nsmallest(5, 'count')"
   ]
  },
  {
   "cell_type": "code",
   "execution_count": 35,
   "id": "cfc1fb92-d078-41f7-974c-b45503719b13",
   "metadata": {},
   "outputs": [],
   "source": [
    "least_represented_list = gdp_least_represented['Country']\n",
    "years_in_lrl = gdp[gdp['Country'].isin(least_represented_list)]\n",
    "#years_in_lrl.head(50)"
   ]
  },
  {
   "cell_type": "code",
   "execution_count": 50,
   "id": "4145e3c7-d2d3-42e6-9491-0cbf9fe5b607",
   "metadata": {},
   "outputs": [],
   "source": [
    "#for country in least_represented_list"
   ]
  },
  {
   "cell_type": "code",
   "execution_count": 52,
   "id": "097dc121-7dd1-4ff7-8eaf-55e70c92bc51",
   "metadata": {},
   "outputs": [
    {
     "data": {
      "text/html": [
       "<div>\n",
       "<style scoped>\n",
       "    .dataframe tbody tr th:only-of-type {\n",
       "        vertical-align: middle;\n",
       "    }\n",
       "\n",
       "    .dataframe tbody tr th {\n",
       "        vertical-align: top;\n",
       "    }\n",
       "\n",
       "    .dataframe thead th {\n",
       "        text-align: right;\n",
       "    }\n",
       "</style>\n",
       "<table border=\"1\" class=\"dataframe\">\n",
       "  <thead>\n",
       "    <tr style=\"text-align: right;\">\n",
       "      <th></th>\n",
       "      <th>Index</th>\n",
       "      <th>GDP</th>\n",
       "    </tr>\n",
       "  </thead>\n",
       "  <tbody>\n",
       "    <tr>\n",
       "      <th>0</th>\n",
       "      <td>count</td>\n",
       "      <td>241.000000</td>\n",
       "    </tr>\n",
       "    <tr>\n",
       "      <th>1</th>\n",
       "      <td>mean</td>\n",
       "      <td>20711.570080</td>\n",
       "    </tr>\n",
       "    <tr>\n",
       "      <th>2</th>\n",
       "      <td>std</td>\n",
       "      <td>20916.978968</td>\n",
       "    </tr>\n",
       "    <tr>\n",
       "      <th>3</th>\n",
       "      <td>min</td>\n",
       "      <td>714.066712</td>\n",
       "    </tr>\n",
       "    <tr>\n",
       "      <th>4</th>\n",
       "      <td>25%</td>\n",
       "      <td>5044.196028</td>\n",
       "    </tr>\n",
       "    <tr>\n",
       "      <th>5</th>\n",
       "      <td>50%</td>\n",
       "      <td>13754.802423</td>\n",
       "    </tr>\n",
       "    <tr>\n",
       "      <th>6</th>\n",
       "      <td>75%</td>\n",
       "      <td>30974.370692</td>\n",
       "    </tr>\n",
       "    <tr>\n",
       "      <th>7</th>\n",
       "      <td>max</td>\n",
       "      <td>115683.493708</td>\n",
       "    </tr>\n",
       "  </tbody>\n",
       "</table>\n",
       "</div>"
      ],
      "text/plain": [
       "   Index            GDP\n",
       "0  count     241.000000\n",
       "1   mean   20711.570080\n",
       "2    std   20916.978968\n",
       "3    min     714.066712\n",
       "4    25%    5044.196028\n",
       "5    50%   13754.802423\n",
       "6    75%   30974.370692\n",
       "7    max  115683.493708"
      ]
     },
     "execution_count": 52,
     "metadata": {},
     "output_type": "execute_result"
    }
   ],
   "source": [
    "describe_2021 = gdp_2021['GDP'].describe().reset_index()\n",
    "describe_2021 = describe_2021.rename(columns={'index':'Index'})\n",
    "describe_2021"
   ]
  },
  {
   "cell_type": "markdown",
   "id": "56f3e32d-04ce-4a73-8622-f10e34f005de",
   "metadata": {},
   "source": [
    "The shape of the distribution below is skewed to the right."
   ]
  },
  {
   "cell_type": "code",
   "execution_count": 57,
   "id": "978d2977-e708-48d0-9781-7f84218a9411",
   "metadata": {},
   "outputs": [
    {
     "name": "stdout",
     "output_type": "stream",
     "text": [
      "The shape of the distribution below is skewed to the right.\n"
     ]
    },
    {
     "data": {
      "image/png": "[encoded data removed]",
      "text/plain": [
       "<Figure size 640x480 with 1 Axes>"
      ]
     },
     "metadata": {},
     "output_type": "display_data"
    }
   ],
   "source": [
    "gdp_2021.hist(column='GDP',bins = 20)\n",
    "print('The shape of the distribution below is skewed to the right.')"
   ]
  },
  {
   "cell_type": "code",
   "execution_count": 59,
   "id": "6dbb0fbc-4b70-465f-af0c-66d4de97e882",
   "metadata": {},
   "outputs": [
    {
     "data": {
      "text/html": [
       "<div>\n",
       "<style scoped>\n",
       "    .dataframe tbody tr th:only-of-type {\n",
       "        vertical-align: middle;\n",
       "    }\n",
       "\n",
       "    .dataframe tbody tr th {\n",
       "        vertical-align: top;\n",
       "    }\n",
       "\n",
       "    .dataframe thead th {\n",
       "        text-align: right;\n",
       "    }\n",
       "</style>\n",
       "<table border=\"1\" class=\"dataframe\">\n",
       "  <thead>\n",
       "    <tr style=\"text-align: right;\">\n",
       "      <th></th>\n",
       "      <th>Country</th>\n",
       "      <th>Year</th>\n",
       "      <th>GDP</th>\n",
       "    </tr>\n",
       "  </thead>\n",
       "  <tbody>\n",
       "    <tr>\n",
       "      <th>4147</th>\n",
       "      <td>Luxembourg</td>\n",
       "      <td>2021</td>\n",
       "      <td>115683.493708</td>\n",
       "    </tr>\n",
       "    <tr>\n",
       "      <th>6107</th>\n",
       "      <td>Singapore</td>\n",
       "      <td>2021</td>\n",
       "      <td>107741.118436</td>\n",
       "    </tr>\n",
       "    <tr>\n",
       "      <th>3278</th>\n",
       "      <td>Ireland</td>\n",
       "      <td>2021</td>\n",
       "      <td>102785.490239</td>\n",
       "    </tr>\n",
       "    <tr>\n",
       "      <th>5745</th>\n",
       "      <td>Qatar</td>\n",
       "      <td>2021</td>\n",
       "      <td>92862.571798</td>\n",
       "    </tr>\n",
       "    <tr>\n",
       "      <th>680</th>\n",
       "      <td>Bermuda</td>\n",
       "      <td>2021</td>\n",
       "      <td>78570.489515</td>\n",
       "    </tr>\n",
       "  </tbody>\n",
       "</table>\n",
       "</div>"
      ],
      "text/plain": [
       "         Country  Year            GDP\n",
       "4147  Luxembourg  2021  115683.493708\n",
       "6107   Singapore  2021  107741.118436\n",
       "3278     Ireland  2021  102785.490239\n",
       "5745       Qatar  2021   92862.571798\n",
       "680      Bermuda  2021   78570.489515"
      ]
     },
     "execution_count": 59,
     "metadata": {},
     "output_type": "execute_result"
    }
   ],
   "source": [
    "top_five_gdp_2021 = gdp_2021.nlargest(columns ='GDP',n= 5)\n",
    "top_five_gdp_2021.head()"
   ]
  },
  {
   "cell_type": "code",
   "execution_count": 61,
   "id": "22f9061d-6a16-4509-a539-cd3cb84b5886",
   "metadata": {},
   "outputs": [
    {
     "data": {
      "text/html": [
       "<div>\n",
       "<style scoped>\n",
       "    .dataframe tbody tr th:only-of-type {\n",
       "        vertical-align: middle;\n",
       "    }\n",
       "\n",
       "    .dataframe tbody tr th {\n",
       "        vertical-align: top;\n",
       "    }\n",
       "\n",
       "    .dataframe thead th {\n",
       "        text-align: right;\n",
       "    }\n",
       "</style>\n",
       "<table border=\"1\" class=\"dataframe\">\n",
       "  <thead>\n",
       "    <tr style=\"text-align: right;\">\n",
       "      <th></th>\n",
       "      <th>Country</th>\n",
       "      <th>Year</th>\n",
       "      <th>GDP</th>\n",
       "    </tr>\n",
       "  </thead>\n",
       "  <tbody>\n",
       "    <tr>\n",
       "      <th>972</th>\n",
       "      <td>Burundi</td>\n",
       "      <td>2021</td>\n",
       "      <td>714.066712</td>\n",
       "    </tr>\n",
       "    <tr>\n",
       "      <th>1216</th>\n",
       "      <td>Central African Republic</td>\n",
       "      <td>2021</td>\n",
       "      <td>837.504686</td>\n",
       "    </tr>\n",
       "    <tr>\n",
       "      <th>1629</th>\n",
       "      <td>Dem. Rep. Congo</td>\n",
       "      <td>2021</td>\n",
       "      <td>1073.643271</td>\n",
       "    </tr>\n",
       "    <tr>\n",
       "      <th>6272</th>\n",
       "      <td>Somalia</td>\n",
       "      <td>2021</td>\n",
       "      <td>1136.735989</td>\n",
       "    </tr>\n",
       "    <tr>\n",
       "      <th>5073</th>\n",
       "      <td>Niger</td>\n",
       "      <td>2021</td>\n",
       "      <td>1186.576809</td>\n",
       "    </tr>\n",
       "  </tbody>\n",
       "</table>\n",
       "</div>"
      ],
      "text/plain": [
       "                       Country  Year          GDP\n",
       "972                    Burundi  2021   714.066712\n",
       "1216  Central African Republic  2021   837.504686\n",
       "1629           Dem. Rep. Congo  2021  1073.643271\n",
       "6272                   Somalia  2021  1136.735989\n",
       "5073                     Niger  2021  1186.576809"
      ]
     },
     "execution_count": 61,
     "metadata": {},
     "output_type": "execute_result"
    }
   ],
   "source": [
    "bottom_five_gdp_2021 = gdp_2021.nsmallest(columns ='GDP',n= 5)\n",
    "bottom_five_gdp_2021.head()"
   ]
  },
  {
   "cell_type": "markdown",
   "id": "e9638c31-e56b-4a02-ab0e-ecbf0ba25a42",
   "metadata": {},
   "source": [
    "13. Now, return to the full dataset, `gdp_df`. Pivot the data for 1990 and 2021 (using the pandas `.pivot_table()` method or another method) so that each row corresponds to a country, each column corresponds to a year, and the values in the table give the GDP_Per_Capita amount. Drop any rows that are missing values for either 1990 or 2021. Save the result to a dataframe named `gdp_pivoted`."
   ]
  },
  {
   "cell_type": "code",
   "execution_count": null,
   "id": "d9e46a92-1fb2-4eed-99d6-1b6c9e95b0fd",
   "metadata": {},
   "outputs": [],
   "source": [
    "gdp_1990_2021 = gdp[(gdp['Year'] == 1990) | (gdp['Year'] == 2021)]\n",
    "gdp_1990_2021.head()"
   ]
  },
  {
   "cell_type": "code",
   "execution_count": null,
   "id": "ec403443-4648-42a8-b5b9-ddd940fccbf8",
   "metadata": {},
   "outputs": [],
   "source": [
    "gdp_pivoted = pd.pivot_table(gdp_1990_2021, values='GDP', index=['Country'],\n",
    "\n",
    "                       columns=['Year'], aggfunc=\"sum\")\n",
    "\n",
    "gdp_pivoted.head()"
   ]
  },
  {
   "cell_type": "code",
   "execution_count": null,
   "id": "fa694751-0380-45a7-949b-48c3c3bd2865",
   "metadata": {},
   "outputs": [],
   "source": [
    "gdp_pivoted.index.name"
   ]
  },
  {
   "cell_type": "code",
   "execution_count": null,
   "id": "b01203a8-8dfd-4af3-815e-e258c2f03601",
   "metadata": {},
   "outputs": [],
   "source": [
    "null_list = gdp_pivoted.isna()\n",
    "null_list = null_list[(null_list[1990] == True) | (null_list[2021] == True)]\n",
    "null_list = null_list.index.to_list()"
   ]
  },
  {
   "cell_type": "code",
   "execution_count": null,
   "id": "8a4d50ca-5268-4bf9-8c1d-66cfa30eccc0",
   "metadata": {},
   "outputs": [],
   "source": [
    "# Create a boolean mask for countries that are not in null_list\n",
    "mask = ~gdp_pivoted.index.isin(null_list)\n",
    "\n",
    "# Filter the DataFrame using the mask\n",
    "filtered_gdp_pivoted = gdp_pivoted[mask]\n",
    "filtered_gdp_pivoted"
   ]
  },
  {
   "cell_type": "markdown",
   "id": "c6532c5e-8c2f-47cd-ac55-28b34a3fce52",
   "metadata": {},
   "source": [
    "14. Create a new column in `gdp_pivoted` named `Percent_Change`. This column should contain the percent change in GDP_Per_Capita from 1990 to 2021. Hint: Percent change is calculated as 100*(New Value - Old Value) / Old Value."
   ]
  },
  {
   "cell_type": "code",
   "execution_count": null,
   "id": "802b6806-02b2-432a-a29b-05a44b28fef8",
   "metadata": {},
   "outputs": [],
   "source": [
    "filtered_gdp_pivoted['Percent_Change'] = ((filtered_gdp_pivoted[2021] - filtered_gdp_pivoted[1990])/filtered_gdp_pivoted[1990])*100\n",
    "filtered_gdp_pivoted.head()"
   ]
  },
  {
   "cell_type": "markdown",
   "id": "6f0157bf-7d47-459f-87bc-3f9719988a64",
   "metadata": {},
   "source": [
    "15. How many countries experienced a negative percent change in GDP per capita from 1990 to 2021?"
   ]
  },
  {
   "cell_type": "code",
   "execution_count": null,
   "id": "7c3d19f9-dde1-462c-9ced-0d59127e6600",
   "metadata": {},
   "outputs": [],
   "source": [
    "negative_growth = filtered_gdp_pivoted[filtered_gdp_pivoted['Percent_Change'] <0]\n",
    "negative_growth.sort_values(by = 'Percent_Change')"
   ]
  },
  {
   "cell_type": "markdown",
   "id": "8915f07e-3e51-41fe-91bb-7ed79d0aaf33",
   "metadata": {},
   "source": [
    "16. Which country had the highest % change in GDP per capita? Create a line plot showing this country's GDP per capita for all years from 1990 to 2018. Create another showing the country with the second highest % change in GDP. How do the trends in these countries compare?\n",
    "\n",
    "**Bonus:** Put both line charts on the same plot. "
   ]
  },
  {
   "cell_type": "code",
   "execution_count": null,
   "id": "d24f04ea-a179-405a-b805-4b5a929cebe2",
   "metadata": {},
   "outputs": [],
   "source": [
    "first_percent_change = filtered_gdp_pivoted.nlargest(1, 'Percent_Change')\n",
    "first_percent_change"
   ]
  },
  {
   "cell_type": "code",
   "execution_count": null,
   "id": "878d3936-9b42-49ad-9ffb-0526bc3f602b",
   "metadata": {},
   "outputs": [],
   "source": [
    "second_percent_change = filtered_gdp_pivoted.nlargest(2, 'Percent_Change')\n",
    "second_percent_change"
   ]
  },
  {
   "cell_type": "code",
   "execution_count": null,
   "id": "3d0a4d85-5a35-487f-8bcb-d665f7400f70",
   "metadata": {},
   "outputs": [],
   "source": [
    "eqg_china = gdp[(gdp['Country'] == 'Equatorial Guinea') | (gdp['Country'] == 'China')]\n",
    "eqg_china = eqg_china.reset_index()\n",
    "eqg_china"
   ]
  },
  {
   "cell_type": "code",
   "execution_count": null,
   "id": "9eedca16-0a6c-4b33-b2b5-64c460b39ef4",
   "metadata": {},
   "outputs": [],
   "source": [
    "import matplotlib.pyplot as plt"
   ]
  },
  {
   "cell_type": "code",
   "execution_count": null,
   "id": "0c29172e-2d37-431d-91f5-c60b0d4266d0",
   "metadata": {},
   "outputs": [],
   "source": [
    "sns.lineplot(x = 'Year', y = 'GDP', data = eqg_china, hue = 'Country')"
   ]
  },
  {
   "cell_type": "markdown",
   "id": "0f836e8b-b01b-46e8-a0b1-08c10dcc5775",
   "metadata": {},
   "source": [
    "17. Read in continents.csv contained in the `data` folder into a new dataframe called `continents`. We will be using this dataframe to add a new column to our dataset."
   ]
  },
  {
   "cell_type": "code",
   "execution_count": null,
   "id": "17e402e9-60d5-4b34-afdc-a68d3d9277a7",
   "metadata": {},
   "outputs": [],
   "source": [
    "continents = pd.read_csv('../data/continents.csv')\n",
    "continents.head()"
   ]
  },
  {
   "cell_type": "markdown",
   "id": "d8890a1e-2e42-480c-ba95-375be1827996",
   "metadata": {},
   "source": [
    "18. Merge gdp_df and continents. Keep only the countries that appear in both data frames. Save the result back to gdp_df."
   ]
  },
  {
   "cell_type": "code",
   "execution_count": null,
   "id": "a53d1839-8308-4064-8713-97ee693ad283",
   "metadata": {},
   "outputs": [],
   "source": [
    "gdp_continents = pd.merge(gdp, continents, on = 'Country', how = 'inner')\n",
    "gdp_continents.head()"
   ]
  },
  {
   "cell_type": "markdown",
   "id": "7001c7e3-6625-4f38-a354-7a07d44b79cd",
   "metadata": {},
   "source": [
    "19. Determine the number of countries per continent. Create a bar chart showing this."
   ]
  },
  {
   "cell_type": "code",
   "execution_count": null,
   "id": "2bc8f7eb-af2b-4183-ab11-a19ab5d8f9d4",
   "metadata": {},
   "outputs": [],
   "source": [
    "countries_per_continent = gdp_continents.groupby('Continent')['Country'].nunique().reset_index(name = 'Country_Count')\n",
    "countries_per_continent.head()"
   ]
  },
  {
   "cell_type": "markdown",
   "id": "4df6d723-3d8b-4a70-9937-59e5ac814cf1",
   "metadata": {},
   "source": [
    "20. Create a seaborn boxplot showing GDP per capita in 2021 split out by continent. What do you notice?"
   ]
  },
  {
   "cell_type": "code",
   "execution_count": null,
   "id": "6abd2607-ead4-4ea4-ad88-f2f4017e0350",
   "metadata": {},
   "outputs": [],
   "source": [
    "plt.bar(countries_per_continent.Continent,\n",
    "        countries_per_continent.Country_Count)\n",
    "plt.ylabel('Count')\n",
    "plt.xlabel('Continent')\n",
    "plt.title('Countries by Continent')\n",
    "plt.xticks(rotation = 90)\n",
    "plt.show()"
   ]
  },
  {
   "cell_type": "markdown",
   "id": "3ab3b3e2-91fd-462e-9e01-4978fa07306f",
   "metadata": {},
   "source": [
    "21. Download the full csv containing Life expectancy at birth, total (years) from [https://data.worldbank.org/indicator/SP.DYN.LE00.IN?name_desc=false](https://data.worldbank.org/indicator/SP.DYN.LE00.IN?name_desc=false). Read this data into a DataFrame named `life_expectancy`. Note: When reading this dataset it, you may encounter an error. Modify your `read_csv` call to correct this **without modifying the original csv file**."
   ]
  },
  {
   "cell_type": "code",
   "execution_count": null,
   "id": "c7f2a25a-04b4-4789-bd5a-852ee1c0f394",
   "metadata": {},
   "outputs": [],
   "source": [
    "le = pd.read_csv('../data/life_exp.csv')\n",
    "le.head()"
   ]
  },
  {
   "cell_type": "markdown",
   "id": "7372b9a2-f5ff-4bd1-a65f-09a892922139",
   "metadata": {},
   "source": [
    "22. Drop the Country Code, Indicator Name, and Indicator Code columns. Then use [`.melt()`](https://pandas.pydata.org/docs/reference/api/pandas.melt.html) to convert your data from wide to long. That is, instead of having one row per country and multiple colums per year, we want to have multiple rows per country and a single column for year. After melting, rename the columns to `Country`, `Year`, and `Life_Expectancy`."
   ]
  },
  {
   "cell_type": "code",
   "execution_count": null,
   "id": "e9fcb4e2-142e-4d1b-b9be-f969df169390",
   "metadata": {},
   "outputs": [],
   "source": [
    "le = le.drop(columns=['Country Code', 'Indicator Name', 'Indicator Code'])"
   ]
  },
  {
   "cell_type": "code",
   "execution_count": null,
   "id": "058b7e9a-d026-4650-91a8-c3f04c5096d9",
   "metadata": {},
   "outputs": [],
   "source": [
    "le.head()"
   ]
  },
  {
   "cell_type": "code",
   "execution_count": null,
   "id": "fca2eecc-f5c3-4f65-a76f-c7247e05aa43",
   "metadata": {},
   "outputs": [],
   "source": [
    "le_melt = pd.melt(le, id_vars = 'Country Name', var_name = 'Year', value_name = 'Life_exp')\n",
    "le_melt = le_melt.rename(columns = {'Country Name' : 'Country'})\n",
    "le_melt.head()"
   ]
  },
  {
   "cell_type": "code",
   "execution_count": null,
   "id": "99b65b4a-bde3-415b-8ddf-63c0eec0f2d2",
   "metadata": {},
   "outputs": [],
   "source": [
    "le_melt.dtypes"
   ]
  },
  {
   "cell_type": "code",
   "execution_count": null,
   "id": "202bcb88-5b3c-4164-813c-2b5d531fff43",
   "metadata": {},
   "outputs": [],
   "source": [
    "gdp['Year'] = gdp['Year'].astype(str)"
   ]
  },
  {
   "cell_type": "markdown",
   "id": "d9e2ee4d-9404-4cc3-af92-abd8b3987cd8",
   "metadata": {},
   "source": [
    "23. What was the first country with a life expectancy to exceed 80?"
   ]
  },
  {
   "cell_type": "code",
   "execution_count": null,
   "id": "a3b5d7d0-9484-4926-a8cd-7e3ee4ac39c2",
   "metadata": {},
   "outputs": [],
   "source": [
    "first_to_eighty = le_melt[le_melt['Life_exp'] >= 80]\n",
    "first_to_eighty_filtered = first_to_eighty[first_to_eighty['Year'] == first_to_eighty['Year'].min()]\n",
    "first_to_eighty_filtered.head()"
   ]
  },
  {
   "cell_type": "markdown",
   "id": "209a5d12-aba6-4a5f-b042-f8b9b6b37522",
   "metadata": {},
   "source": [
    "24. Merge `gdp_df` and `life_expectancy`, keeping all countries and years that appear in both DataFrames. Save the result to a new DataFrame named `gdp_le`. If you get any errors in doing this, read them carefully and correct them. Look at the first five rows of your new data frame to confirm it merged correctly. Also, check the last five rows to make sure the data is clean and as expected."
   ]
  },
  {
   "cell_type": "code",
   "execution_count": null,
   "id": "73c2616a-9529-4078-a913-a449651ada44",
   "metadata": {},
   "outputs": [],
   "source": [
    "gdp_le = pd.merge(gdp, le_melt, on = ['Country','Year'], how = 'inner')\n",
    "gdp_le.head()"
   ]
  },
  {
   "cell_type": "code",
   "execution_count": null,
   "id": "c3b57a2e-0e33-4157-9130-6f2572f6ab0e",
   "metadata": {},
   "outputs": [],
   "source": [
    "from openpyxl import load_workbook\n",
    "from openpyxl.styles import NamedStyle"
   ]
  },
  {
   "cell_type": "code",
   "execution_count": null,
   "id": "3fe823db-558a-472c-80ee-1d5ae96ab8ad",
   "metadata": {},
   "outputs": [],
   "source": [
    "gdp_le.to_excel('gdp_le.xlsx', index=False, engine='openpyxl')"
   ]
  },
  {
   "cell_type": "markdown",
   "id": "ddd21ae6-934b-498f-9662-4014f658384c",
   "metadata": {},
   "source": [
    "25. Create a new DataFrame, named `gdp_le_2021` by extracting data for the year 2021 from `gdp_le`. How many countries have a life expectancy of at least 80 in 2021?"
   ]
  },
  {
   "cell_type": "code",
   "execution_count": null,
   "id": "ff730272-b32d-4bc2-a0cc-8be3a05da2a5",
   "metadata": {},
   "outputs": [],
   "source": [
    "gdp_le_2021 = gdp_le[gdp_le['Year'] == '2021']\n",
    "gdp_le_2021.head()"
   ]
  },
  {
   "cell_type": "code",
   "execution_count": null,
   "id": "a7ab48ce-c6d9-4007-a5be-842a9ae18613",
   "metadata": {},
   "outputs": [],
   "source": [
    "count_of_eighty = gdp_le_2021[gdp_le_2021['Life_exp']>=80]\n",
    "count_of_eighty.shape"
   ]
  },
  {
   "cell_type": "markdown",
   "id": "ed0c7136-4fdf-433a-8b04-0c668812a22d",
   "metadata": {},
   "source": [
    "26. Find the countries that had the top 3 largest GDP per capita figures for 2021. Create a [seaborn FacetGrid](https://seaborn.pydata.org/generated/seaborn.FacetGrid.html) showing the change in life expectancy over time for these three countries. Each individual figure in the facet grid will represent a single country."
   ]
  },
  {
   "cell_type": "code",
   "execution_count": null,
   "id": "c0ec3327-226c-463d-9694-b693031c9b8d",
   "metadata": {},
   "outputs": [],
   "source": [
    "gdp_le_2021.nlargest(3,'GDP')"
   ]
  },
  {
   "cell_type": "code",
   "execution_count": null,
   "id": "370da634-3603-4a94-abba-44d98c7b001c",
   "metadata": {},
   "outputs": [],
   "source": [
    "top_three = ['Luxembourg','Singapore', 'Ireland']\n",
    "gdp_top_three = gdp_le[gdp_le['Country'].isin(top_three)]\n",
    "gdp_top_three.head()"
   ]
  },
  {
   "cell_type": "code",
   "execution_count": null,
   "id": "d6c3eb7f-a8ba-4ce9-93ec-e3a1b8923f27",
   "metadata": {},
   "outputs": [],
   "source": [
    "a = sns.FacetGrid(gdp_top_three, col = 'Country')\n",
    "a.map(sns.scatterplot,'Life_exp','GDP')\n",
    "a.add_legend();"
   ]
  },
  {
   "cell_type": "markdown",
   "id": "2abad4be-f89d-48e3-a3bf-400d50847e0b",
   "metadata": {},
   "source": [
    "27. Create a scatter plot of Life Expectancy vs GDP per Capita for the year 2021. What do you notice?"
   ]
  },
  {
   "cell_type": "code",
   "execution_count": null,
   "id": "f9c99300-5a89-4e93-b73d-7a54209b7d62",
   "metadata": {},
   "outputs": [],
   "source": [
    "gdp_le_2021.plot(kind = 'scatter', x = 'GDP', y = 'Life_Exp', figsize = (8,6))\n",
    "plt.title(' GDP v Life Exp');"
   ]
  },
  {
   "cell_type": "markdown",
   "id": "6b268248-6784-46c5-8350-47a10d256171",
   "metadata": {},
   "source": [
    "28. Find the correlation between Life Expectancy and GDP per Capita for the year 2021. What is the meaning of this number?"
   ]
  },
  {
   "cell_type": "code",
   "execution_count": null,
   "id": "36ab2967-314e-4108-a356-8a562333b44a",
   "metadata": {},
   "outputs": [],
   "source": [
    "gdp_le_2021[['Life_exp','GDP']].corr()"
   ]
  },
  {
   "cell_type": "markdown",
   "id": "0dac9170-2796-4b94-bb5f-63fb1793d831",
   "metadata": {},
   "source": [
    "29. Add a column to `gdp_le_2021` and calculate the logarithm of GDP per capita. Find the correlation between the log of GDP per capita and life expectancy. How does this compare to the calculation in the previous part? Look at a scatter plot to see if the result of this calculation makes sense."
   ]
  },
  {
   "cell_type": "code",
   "execution_count": null,
   "id": "a5f946da-e833-4c82-adcc-0cda518e4f19",
   "metadata": {},
   "outputs": [],
   "source": [
    "gdp_le_2021['GDP_log'] = np.log(gdp_le_2021['GDP'])\n",
    "gdp_le_2021.head()"
   ]
  },
  {
   "cell_type": "code",
   "execution_count": null,
   "id": "85c6d8ae-3653-41de-abf9-dfd8f1bcc52f",
   "metadata": {},
   "outputs": [],
   "source": [
    "gdp_le_2021[['Life_exp','GDP_log']].corr()"
   ]
  },
  {
   "cell_type": "markdown",
   "id": "ecba26f6-c615-4ce3-9e41-26c41a43ef5e",
   "metadata": {},
   "source": [
    "### Bonus: Solo Exploration:\n",
    "1. Choose and download another data set from the UN data [http://data.un.org/Explorer.aspx](http://data.un.org/Explorer.aspx) to explore. You may want to combine your new dataset with one or both of the datasets that you already worked with. Report any interesting correlations or trends that you find. \n",
    "2.    If time allows, check out the plotly library to add additional interativity to your plots. [https://plotly.com/python/plotly-express/](https://plotly.com/python/plotly-express/)."
   ]
  },
  {
   "cell_type": "code",
   "execution_count": null,
   "id": "92514f99-3ebb-46f1-8672-6f0edac30771",
   "metadata": {},
   "outputs": [],
   "source": [
    "wmn_lbr = pd.read_csv('../Data/wmn_lbr.csv')\n",
    "wmn_lbr.head()"
   ]
  },
  {
   "cell_type": "code",
   "execution_count": null,
   "id": "dafd475d-c35f-438c-8b0d-c2e0122db58b",
   "metadata": {},
   "outputs": [],
   "source": [
    "wmn_lbr = wmn_lbr.drop(columns = ['Subgroup', 'Source', 'Unit', 'Value Footnotes'])\n",
    "wmn_lbr = wmn_lbr.rename(columns = {'Country or Area' : 'Country','Value' : 'Wmn_Lbr_Pct'})\n",
    "wmn_lbr.head()"
   ]
  },
  {
   "cell_type": "code",
   "execution_count": null,
   "id": "1cf8a9db-c8cd-415b-bc1f-b7525dffcd2c",
   "metadata": {},
   "outputs": [],
   "source": [
    "wmn_lbr['Year'] = wmn_lbr['Year'].astype(str)\n",
    "wmn_lbr['Year'] = wmn_lbr['Year'].str.replace('.0',' ')\n",
    "wmn_lbr.head()"
   ]
  },
  {
   "cell_type": "code",
   "execution_count": null,
   "id": "369f8fe8-834a-4cda-a408-e9f569a993f1",
   "metadata": {},
   "outputs": [],
   "source": [
    "wmn_lbr.dtypes"
   ]
  },
  {
   "cell_type": "code",
   "execution_count": null,
   "id": "f820a230-1d3b-42a4-86a2-5ac134c10eed",
   "metadata": {},
   "outputs": [],
   "source": [
    "gdp_le['Year'] = gdp_le['Year'].astype(str)"
   ]
  },
  {
   "cell_type": "code",
   "execution_count": null,
   "id": "acca00fd-0103-45ff-8a3c-44dec68ea9df",
   "metadata": {},
   "outputs": [],
   "source": [
    "wmn_gdp = pd.merge(wmn_lbr,gdp_le, on = ['Country','Year'], how = 'inner')\n",
    "wmn_gdp.head(2)"
   ]
  },
  {
   "cell_type": "code",
   "execution_count": null,
   "id": "c58ec74b-8ed9-4a62-85aa-3bb075d1f9bb",
   "metadata": {},
   "outputs": [],
   "source": [
    "wmn_gdp = pd.merge(wmn_gdp, continents, on = 'Country', how = 'inner')\n",
    "wmn_gdp.head()"
   ]
  },
  {
   "cell_type": "code",
   "execution_count": null,
   "id": "d98fce85-c36e-4914-be46-606838137e39",
   "metadata": {},
   "outputs": [],
   "source": [
    "wmn_gdp[['Wmn_Lbr_Pct','GDP']].corr()\n",
    "#gdp_le_2021[['Life_exp','GDP_log']].corr()"
   ]
  },
  {
   "cell_type": "code",
   "execution_count": null,
   "id": "6c27337e-a546-4331-98ea-6b29405d9a85",
   "metadata": {},
   "outputs": [],
   "source": [
    "wmn_gdp[['Wmn_Lbr_Pct','Life_exp']].corr()"
   ]
  },
  {
   "cell_type": "code",
   "execution_count": null,
   "id": "fda63fa6-523a-4ec8-9505-c5d4f3516ffc",
   "metadata": {},
   "outputs": [],
   "source": [
    "for continent in wmn_gdp['Continent'].unique():\n",
    "    subset = wmn_gdp[wmn_gdp['Continent'] == continent]\n",
    "    correlation = subset[['Wmn_Lbr_Pct', 'GDP']].corr()\n",
    "    print(continent)\n",
    "    print(correlation)\n",
    "    print(\"\\n\")"
   ]
  },
  {
   "cell_type": "code",
   "execution_count": null,
   "id": "c19a92dd-30bc-471c-ab3d-39dbb5eb9473",
   "metadata": {},
   "outputs": [],
   "source": [
    "correlation = subset[['Wmn_Lbr_Pct', 'GDP']].corr()\n",
    "correlation"
   ]
  },
  {
   "cell_type": "code",
   "execution_count": null,
   "id": "4a67faeb-557a-4372-a4aa-e74816fbe6f1",
   "metadata": {},
   "outputs": [],
   "source": [
    "asia = wmn_gdp[wmn_gdp['Continent'] == 'Asia']\n",
    "asia.head()"
   ]
  },
  {
   "cell_type": "code",
   "execution_count": null,
   "id": "aac27ac1-ec50-4e00-9a81-bef191972cd8",
   "metadata": {},
   "outputs": [],
   "source": [
    "for country in asia['Country'].unique():\n",
    "    subset = asia[asia['Country'] == country]\n",
    "    correlation = subset[['Wmn_Lbr_Pct', 'GDP']].corr()\n",
    "    print(country)\n",
    "    print(correlation)\n",
    "    print(\"\\n\")"
   ]
  },
  {
   "cell_type": "code",
   "execution_count": null,
   "id": "b4fd2d9b-5eca-4582-b145-508a6b357260",
   "metadata": {},
   "outputs": [],
   "source": [
    "results = []\n",
    "\n",
    "for country in wmn_gdp['Country'].unique():\n",
    "    subset = wmn_gdp[wmn_gdp['Country'] == country]\n",
    "    correlation = subset[['Wmn_Lbr_Pct', 'GDP']].corr().iloc[0, 1]  \n",
    "    results.append({'Country': country, 'Correlation': correlation})  \n",
    "\n",
    "\n",
    "correlation_country = pd.DataFrame(results)\n",
    "\n",
    "\n",
    "print(correlation_country)"
   ]
  },
  {
   "cell_type": "code",
   "execution_count": null,
   "id": "c0d2b5c8-270c-426c-b5ed-221bd637bd65",
   "metadata": {},
   "outputs": [],
   "source": [
    "correlation_country = pd.merge(correlation_country, continents, on = ['Country'], how = 'inner')\n",
    "correlation_country.head()"
   ]
  },
  {
   "cell_type": "code",
   "execution_count": null,
   "id": "f9af171a-37dc-46d1-90b6-64c7f2c6a482",
   "metadata": {},
   "outputs": [],
   "source": [
    "correlation_asia_sorted = correlation_asia.sort_values(by='Correlation', ascending=False)\n",
    "\n",
    "sns.barplot(data=correlation_asia_sorted, x='Country', y='Correlation', hue='Country', palette='Set1')\n",
    "plt.xticks(rotation=90)\n",
    "plt.title(\"Women in Labor Force vs. GDP in Asia (by Country)\")\n",
    "plt.show()"
   ]
  },
  {
   "cell_type": "code",
   "execution_count": null,
   "id": "c779437e-8fc0-4755-a7c9-e41e436a5503",
   "metadata": {},
   "outputs": [],
   "source": [
    "correlation_country.hist(column='Correlation',bins =10)"
   ]
  },
  {
   "cell_type": "code",
   "execution_count": null,
   "id": "d5129eb1-6fa9-4b07-a47f-afaa84656fb9",
   "metadata": {},
   "outputs": [],
   "source": [
    "correlation_country['Correlation'].describe()"
   ]
  },
  {
   "cell_type": "code",
   "execution_count": null,
   "id": "c2d85ba3-93d8-413d-9894-37fabb808831",
   "metadata": {},
   "outputs": [],
   "source": [
    "sns.boxplot(y='Continent', x='Correlation', data=correlation_country, hue='Continent', palette='Set1')\n",
    "\n",
    "\n",
    "plt.title('Box Plot of Correlation by Continent')\n",
    "plt.xlabel('Correlation Coefficient')\n",
    "plt.ylabel('Continent')\n",
    "\n",
    "\n",
    "plt.show()"
   ]
  }
 ],
 "metadata": {
  "kernelspec": {
   "display_name": "Python 3 (ipykernel)",
   "language": "python",
   "name": "python3"
  },
  "language_info": {
   "codemirror_mode": {
    "name": "ipython",
    "version": 3
   },
   "file_extension": ".py",
   "mimetype": "text/x-python",
   "name": "python",
   "nbconvert_exporter": "python",
   "pygments_lexer": "ipython3",
   "version": "3.12.4"
  }
 },
 "nbformat": 4,
 "nbformat_minor": 5
}
