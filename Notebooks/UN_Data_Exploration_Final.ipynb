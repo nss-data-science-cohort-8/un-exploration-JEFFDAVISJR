{
 "cells": [
  {
   "cell_type": "markdown",
   "id": "118e6b45-bde2-4593-ae00-301c447fa043",
   "metadata": {},
   "source": [
    "## An Exploration of UN data\n",
    "This project is an exploratory analysis on two country-level metrics, gross domestic product (GDP) per capita and overall life expectancy. \n",
    "### Data Source:\n",
    " [http://data.un.org/Data.aspx?d=WDI&f=Indicator_Code%3aNY.GDP.PCAP.PP.KD](http://data.un.org/Data.aspx?d=WDI&f=Indicator_Code%3aNY.GDP.PCAP.PP.KD). "
   ]
  },
  {
   "cell_type": "code",
   "execution_count": 2,
   "id": "83bb069e-971a-405d-8c40-ec0a84260c38",
   "metadata": {},
   "outputs": [],
   "source": [
    "import pandas as pd\n",
    "import numpy as np\n",
    "import matplotlib.pyplot as plt\n",
    "import seaborn as sns"
   ]
  },
  {
   "cell_type": "markdown",
   "id": "ced3dc02-891f-46f0-a77b-b9c7809bab37",
   "metadata": {},
   "source": [
    "### Read in Data"
   ]
  },
  {
   "cell_type": "code",
   "execution_count": 4,
   "id": "8c07674e-0133-4a7a-9def-b67928cd9452",
   "metadata": {},
   "outputs": [],
   "source": [
    "gdp = pd.read_csv('../Data/gdp_per_capita.csv')"
   ]
  },
  {
   "cell_type": "markdown",
   "id": "b34fd9de-97b5-44a8-a99e-e435ab958f38",
   "metadata": {},
   "source": [
    "### Dropping and Renaming Columns"
   ]
  },
  {
   "cell_type": "code",
   "execution_count": 6,
   "id": "179c5526-6d7c-4165-8274-61d6a621e613",
   "metadata": {},
   "outputs": [],
   "source": [
    "gdp = gdp.drop(['Value Footnotes'], axis = 1)\n",
    "gdp = gdp.rename(columns={'Country or Area':'Country','Value':'GDP'})"
   ]
  },
  {
   "cell_type": "markdown",
   "id": "834df5e2-1b1e-49e0-a320-76b142692579",
   "metadata": {},
   "source": [
    "### Data frame dimensions and data types\n",
    "* Find the number of rows and columns\n",
    "* Find the data types of its columns\n",
    "* Fix data types if necessary"
   ]
  },
  {
   "cell_type": "code",
   "execution_count": 8,
   "id": "215e2962-563b-4868-9248-ba9303cd4476",
   "metadata": {},
   "outputs": [
    {
     "name": "stdout",
     "output_type": "stream",
     "text": [
      "There are 7,662 rows and 3 columns in the \"gdp\" data frame\n"
     ]
    }
   ],
   "source": [
    "row_count = gdp.shape[0]\n",
    "col_count = gdp.shape[1]\n",
    "print(f'There are {row_count:,} rows and {col_count:,} columns in the \"gdp\" data frame')"
   ]
  },
  {
   "cell_type": "code",
   "execution_count": 9,
   "id": "d5608972-e5c4-4fcd-ae6b-0e07b345f123",
   "metadata": {},
   "outputs": [],
   "source": [
    "gdp['Year'] = gdp['Year'].astype(str)"
   ]
  },
  {
   "cell_type": "code",
   "execution_count": 10,
   "id": "81f8b945-89c4-431a-a7f0-0dfa5a579d09",
   "metadata": {},
   "outputs": [
    {
     "data": {
      "text/plain": [
       "Country     object\n",
       "Year        object\n",
       "GDP        float64\n",
       "dtype: object"
      ]
     },
     "execution_count": 10,
     "metadata": {},
     "output_type": "execute_result"
    }
   ],
   "source": [
    "gdp['Year'] = gdp['Year'].astype(str)\n",
    "gdp.dtypes"
   ]
  },
  {
   "cell_type": "markdown",
   "id": "ac9a2eaf-31d2-4f65-9d7f-8237bcbcba70",
   "metadata": {},
   "source": [
    "### Exploring the year 2021\n",
    "* Create a new dataframe by subsetting `gdp` to just the year 2021\n",
    "* Number of countries are represented in 2021\n",
    "* Countries are least represented in the accross all years\n",
    "* Why so few observations\n",
    "* Use `.describe()` to find the summary statistics for GDP per capita in 2021.\n",
    "* Create a histogram of GDP Per Capita numbers for 2021 (you may wish to adjust the number of bins for your histogram).\n",
    "* Find the top 5 counties and bottom 5 countries by GDP per capita in 2021."
   ]
  },
  {
   "cell_type": "code",
   "execution_count": 12,
   "id": "34df1e28-42e3-4487-8fb6-a3c86845ab45",
   "metadata": {},
   "outputs": [
    {
     "name": "stdout",
     "output_type": "stream",
     "text": [
      "In 2021 there were 241 represented\n"
     ]
    }
   ],
   "source": [
    "gdp_2021 = gdp[gdp['Year'] == '2021']\n",
    "unique_countries = gdp_2021['Country'].nunique()\n",
    "print(f'In 2021 there were {unique_countries} represented')"
   ]
  },
  {
   "cell_type": "code",
   "execution_count": 13,
   "id": "88e6c712-f8dd-4380-8528-e0f4bac78537",
   "metadata": {},
   "outputs": [],
   "source": [
    "gdp_least_represented = gdp['Country'].value_counts().reset_index()\n",
    "gdp_least_represented = gdp_least_represented.nsmallest(5, 'count')"
   ]
  },
  {
   "cell_type": "code",
   "execution_count": 14,
   "id": "cfc1fb92-d078-41f7-974c-b45503719b13",
   "metadata": {},
   "outputs": [],
   "source": [
    "least_represented_list = gdp_least_represented['Country']\n",
    "years_in_lrl = gdp[gdp['Country'].isin(least_represented_list)]\n",
    "#years_in_lrl.head(50)"
   ]
  },
  {
   "cell_type": "code",
   "execution_count": 15,
   "id": "4145e3c7-d2d3-42e6-9491-0cbf9fe5b607",
   "metadata": {},
   "outputs": [],
   "source": [
    "#for country in least_represented_list"
   ]
  },
  {
   "cell_type": "code",
   "execution_count": 16,
   "id": "097dc121-7dd1-4ff7-8eaf-55e70c92bc51",
   "metadata": {},
   "outputs": [
    {
     "data": {
      "text/html": [
       "<div>\n",
       "<style scoped>\n",
       "    .dataframe tbody tr th:only-of-type {\n",
       "        vertical-align: middle;\n",
       "    }\n",
       "\n",
       "    .dataframe tbody tr th {\n",
       "        vertical-align: top;\n",
       "    }\n",
       "\n",
       "    .dataframe thead th {\n",
       "        text-align: right;\n",
       "    }\n",
       "</style>\n",
       "<table border=\"1\" class=\"dataframe\">\n",
       "  <thead>\n",
       "    <tr style=\"text-align: right;\">\n",
       "      <th></th>\n",
       "      <th>Index</th>\n",
       "      <th>GDP</th>\n",
       "    </tr>\n",
       "  </thead>\n",
       "  <tbody>\n",
       "    <tr>\n",
       "      <th>0</th>\n",
       "      <td>count</td>\n",
       "      <td>241.000000</td>\n",
       "    </tr>\n",
       "    <tr>\n",
       "      <th>1</th>\n",
       "      <td>mean</td>\n",
       "      <td>20711.570080</td>\n",
       "    </tr>\n",
       "    <tr>\n",
       "      <th>2</th>\n",
       "      <td>std</td>\n",
       "      <td>20916.978968</td>\n",
       "    </tr>\n",
       "    <tr>\n",
       "      <th>3</th>\n",
       "      <td>min</td>\n",
       "      <td>714.066712</td>\n",
       "    </tr>\n",
       "    <tr>\n",
       "      <th>4</th>\n",
       "      <td>25%</td>\n",
       "      <td>5044.196028</td>\n",
       "    </tr>\n",
       "    <tr>\n",
       "      <th>5</th>\n",
       "      <td>50%</td>\n",
       "      <td>13754.802423</td>\n",
       "    </tr>\n",
       "    <tr>\n",
       "      <th>6</th>\n",
       "      <td>75%</td>\n",
       "      <td>30974.370692</td>\n",
       "    </tr>\n",
       "    <tr>\n",
       "      <th>7</th>\n",
       "      <td>max</td>\n",
       "      <td>115683.493708</td>\n",
       "    </tr>\n",
       "  </tbody>\n",
       "</table>\n",
       "</div>"
      ],
      "text/plain": [
       "   Index            GDP\n",
       "0  count     241.000000\n",
       "1   mean   20711.570080\n",
       "2    std   20916.978968\n",
       "3    min     714.066712\n",
       "4    25%    5044.196028\n",
       "5    50%   13754.802423\n",
       "6    75%   30974.370692\n",
       "7    max  115683.493708"
      ]
     },
     "execution_count": 16,
     "metadata": {},
     "output_type": "execute_result"
    }
   ],
   "source": [
    "describe_2021 = gdp_2021['GDP'].describe().reset_index()\n",
    "describe_2021 = describe_2021.rename(columns={'index':'Index'})\n",
    "describe_2021"
   ]
  },
  {
   "cell_type": "markdown",
   "id": "56f3e32d-04ce-4a73-8622-f10e34f005de",
   "metadata": {},
   "source": [
    "The shape of the distribution below is skewed to the right."
   ]
  },
  {
   "cell_type": "code",
   "execution_count": 29,
   "id": "978d2977-e708-48d0-9781-7f84218a9411",
   "metadata": {},
   "outputs": [
    {
     "name": "stdout",
     "output_type": "stream",
     "text": [
      "The shape of the distribution below is skewed to the right.\n"
     ]
    },
    {
     "data": {
      "image/png": "[encoded data removed]",
      "text/plain": [
       "<Figure size 640x480 with 1 Axes>"
      ]
     },
     "metadata": {},
     "output_type": "display_data"
    }
   ],
   "source": [
    "gdp_2021.hist(column='GDP',bins = 20)\n",
    "print('The shape of the distribution below is skewed to the right.')"
   ]
  },
  {
   "cell_type": "code",
   "execution_count": 30,
   "id": "6dbb0fbc-4b70-465f-af0c-66d4de97e882",
   "metadata": {},
   "outputs": [
    {
     "data": {
      "text/html": [
       "<div>\n",
       "<style scoped>\n",
       "    .dataframe tbody tr th:only-of-type {\n",
       "        vertical-align: middle;\n",
       "    }\n",
       "\n",
       "    .dataframe tbody tr th {\n",
       "        vertical-align: top;\n",
       "    }\n",
       "\n",
       "    .dataframe thead th {\n",
       "        text-align: right;\n",
       "    }\n",
       "</style>\n",
       "<table border=\"1\" class=\"dataframe\">\n",
       "  <thead>\n",
       "    <tr style=\"text-align: right;\">\n",
       "      <th></th>\n",
       "      <th>Country</th>\n",
       "      <th>Year</th>\n",
       "      <th>GDP</th>\n",
       "    </tr>\n",
       "  </thead>\n",
       "  <tbody>\n",
       "    <tr>\n",
       "      <th>4147</th>\n",
       "      <td>Luxembourg</td>\n",
       "      <td>2021</td>\n",
       "      <td>115683.493708</td>\n",
       "    </tr>\n",
       "    <tr>\n",
       "      <th>6107</th>\n",
       "      <td>Singapore</td>\n",
       "      <td>2021</td>\n",
       "      <td>107741.118436</td>\n",
       "    </tr>\n",
       "    <tr>\n",
       "      <th>3278</th>\n",
       "      <td>Ireland</td>\n",
       "      <td>2021</td>\n",
       "      <td>102785.490239</td>\n",
       "    </tr>\n",
       "    <tr>\n",
       "      <th>5745</th>\n",
       "      <td>Qatar</td>\n",
       "      <td>2021</td>\n",
       "      <td>92862.571798</td>\n",
       "    </tr>\n",
       "    <tr>\n",
       "      <th>680</th>\n",
       "      <td>Bermuda</td>\n",
       "      <td>2021</td>\n",
       "      <td>78570.489515</td>\n",
       "    </tr>\n",
       "  </tbody>\n",
       "</table>\n",
       "</div>"
      ],
      "text/plain": [
       "         Country  Year            GDP\n",
       "4147  Luxembourg  2021  115683.493708\n",
       "6107   Singapore  2021  107741.118436\n",
       "3278     Ireland  2021  102785.490239\n",
       "5745       Qatar  2021   92862.571798\n",
       "680      Bermuda  2021   78570.489515"
      ]
     },
     "execution_count": 30,
     "metadata": {},
     "output_type": "execute_result"
    }
   ],
   "source": [
    "top_five_gdp_2021 = gdp_2021.nlargest(columns ='GDP',n= 5)\n",
    "top_five_gdp_2021.head()"
   ]
  },
  {
   "cell_type": "code",
   "execution_count": 31,
   "id": "22f9061d-6a16-4509-a539-cd3cb84b5886",
   "metadata": {},
   "outputs": [
    {
     "data": {
      "text/html": [
       "<div>\n",
       "<style scoped>\n",
       "    .dataframe tbody tr th:only-of-type {\n",
       "        vertical-align: middle;\n",
       "    }\n",
       "\n",
       "    .dataframe tbody tr th {\n",
       "        vertical-align: top;\n",
       "    }\n",
       "\n",
       "    .dataframe thead th {\n",
       "        text-align: right;\n",
       "    }\n",
       "</style>\n",
       "<table border=\"1\" class=\"dataframe\">\n",
       "  <thead>\n",
       "    <tr style=\"text-align: right;\">\n",
       "      <th></th>\n",
       "      <th>Country</th>\n",
       "      <th>Year</th>\n",
       "      <th>GDP</th>\n",
       "    </tr>\n",
       "  </thead>\n",
       "  <tbody>\n",
       "    <tr>\n",
       "      <th>972</th>\n",
       "      <td>Burundi</td>\n",
       "      <td>2021</td>\n",
       "      <td>714.066712</td>\n",
       "    </tr>\n",
       "    <tr>\n",
       "      <th>1216</th>\n",
       "      <td>Central African Republic</td>\n",
       "      <td>2021</td>\n",
       "      <td>837.504686</td>\n",
       "    </tr>\n",
       "    <tr>\n",
       "      <th>1629</th>\n",
       "      <td>Dem. Rep. Congo</td>\n",
       "      <td>2021</td>\n",
       "      <td>1073.643271</td>\n",
       "    </tr>\n",
       "    <tr>\n",
       "      <th>6272</th>\n",
       "      <td>Somalia</td>\n",
       "      <td>2021</td>\n",
       "      <td>1136.735989</td>\n",
       "    </tr>\n",
       "    <tr>\n",
       "      <th>5073</th>\n",
       "      <td>Niger</td>\n",
       "      <td>2021</td>\n",
       "      <td>1186.576809</td>\n",
       "    </tr>\n",
       "  </tbody>\n",
       "</table>\n",
       "</div>"
      ],
      "text/plain": [
       "                       Country  Year          GDP\n",
       "972                    Burundi  2021   714.066712\n",
       "1216  Central African Republic  2021   837.504686\n",
       "1629           Dem. Rep. Congo  2021  1073.643271\n",
       "6272                   Somalia  2021  1136.735989\n",
       "5073                     Niger  2021  1186.576809"
      ]
     },
     "execution_count": 31,
     "metadata": {},
     "output_type": "execute_result"
    }
   ],
   "source": [
    "bottom_five_gdp_2021 = gdp_2021.nsmallest(columns ='GDP',n= 5)\n",
    "bottom_five_gdp_2021.head()"
   ]
  },
  {
   "cell_type": "markdown",
   "id": "4d9570d5-7d82-4476-9f49-3a8bd5ecb847",
   "metadata": {},
   "source": [
    "### Comparing 2021 with other years\n",
    "* Pivot the data for 1990 and 2021\n",
    "* Drop any rows that are missing values for either 1990 or 2021.\n",
    "* Create a new column in `gdp_pivoted` named `Percent_Change`.\n",
    "* Show the top two countries in terms of growth when comparing GDP in 1990 and 2021"
   ]
  },
  {
   "cell_type": "code",
   "execution_count": 108,
   "id": "d9e46a92-1fb2-4eed-99d6-1b6c9e95b0fd",
   "metadata": {},
   "outputs": [],
   "source": [
    "#Create initial pivot table\n",
    "gdp_1990_2021 = gdp[(gdp['Year'] == '1990') | (gdp['Year'] == '2021')]\n",
    "gdp_pivoted = pd.pivot_table(gdp_1990_2021, values='GDP', index=['Country'],\n",
    "\n",
    "                       columns=['Year'], aggfunc=\"sum\")\n",
    "\n",
    "#Identify only the n/a countries \n",
    "null_list = gdp_pivoted.isna()\n",
    "null_list = null_list[(null_list['1990'] == True) | (null_list['2021'] == True)]\n",
    "null_list = null_list.index.to_list()\n",
    "\n",
    "# filter pivot table to remove n/a countries\n",
    "filtered_gdp_pivoted = gdp_pivoted[~gdp_pivoted.index.isin(null_list)]\n",
    "\n",
    "# add a new column to show % change\n",
    "filtered_gdp_pivoted = filtered_gdp_pivoted.copy()\n",
    "filtered_gdp_pivoted['Percent_Change'] = (\n",
    "    (filtered_gdp_pivoted['2021'] - filtered_gdp_pivoted['1990']) / filtered_gdp_pivoted['1990']) * 100"
   ]
  },
  {
   "cell_type": "code",
   "execution_count": 64,
   "id": "7c3d19f9-dde1-462c-9ced-0d59127e6600",
   "metadata": {},
   "outputs": [
    {
     "name": "stdout",
     "output_type": "stream",
     "text": [
      "A total of 19 countries experienced negative GDP growth from 1990 to 2021\n"
     ]
    }
   ],
   "source": [
    "negative_growth = filtered_gdp_pivoted[filtered_gdp_pivoted['Percent_Change'] <0]\n",
    "negative_growth.sort_values(by = 'Percent_Change')\n",
    "change_count = len(negative_growth.index)\n",
    "print(f'A total of {change_count} countries experienced negative GDP growth from 1990 to 2021')"
   ]
  },
  {
   "cell_type": "code",
   "execution_count": 106,
   "id": "d24f04ea-a179-405a-b805-4b5a929cebe2",
   "metadata": {},
   "outputs": [
    {
     "data": {
      "text/plain": [
       "<Axes: xlabel='Year', ylabel='GDP'>"
      ]
     },
     "execution_count": 106,
     "metadata": {},
     "output_type": "execute_result"
    },
    {
     "data": {
      "image/png": "[encoded data removed]",
      "text/plain": [
       "<Figure size 640x480 with 1 Axes>"
      ]
     },
     "metadata": {},
     "output_type": "display_data"
    }
   ],
   "source": [
    "first_percent_change = filtered_gdp_pivoted.nlargest(1, 'Percent_Change')\n",
    "second_percent_change = filtered_gdp_pivoted.nlargest(2, 'Percent_Change')\n",
    "eqg_china = gdp[(gdp['Country'] == 'Equatorial Guinea') | (gdp['Country'] == 'China')]\n",
    "eqg_china = eqg_china.reset_index()\n",
    "eqg_china['Year'] = eqg_china['Year'].astype(float)\n",
    "sns.lineplot(x='Year', y='GDP', data=eqg_china, hue='Country')"
   ]
  },
  {
   "cell_type": "markdown",
   "id": "3092fb9c-5666-4517-a93a-c894d49988f7",
   "metadata": {},
   "source": [
    "### Comparing continent trends\n",
    "* Read in continents data and merge with gdp data frame\n",
    "* Countries are least represented in the accross all years\n",
    "* Why so few observations\n",
    "* Use `.describe()` to find the summary statistics for GDP per capita in 2021.\n",
    "* Create a histogram of GDP Per Capita numbers for 2021 (you may wish to adjust the number of bins for your histogram).\n",
    "* Find the top 5 counties and bottom 5 countries by GDP per capita in 2021."
   ]
  },
  {
   "cell_type": "code",
   "execution_count": 126,
   "id": "4e4f58dd-890b-4ad5-b7cc-f219ce134cd7",
   "metadata": {},
   "outputs": [
    {
     "data": {
      "image/png": "[encoded data removed]",
      "text/plain": [
       "<Figure size 640x480 with 1 Axes>"
      ]
     },
     "metadata": {},
     "output_type": "display_data"
    }
   ],
   "source": [
    "continents = pd.read_csv('../data/continents.csv')\n",
    "gdp_continents = pd.merge(gdp, continents, on = 'Country', how = 'inner')\n",
    "countries_per_continent = gdp_continents.groupby('Continent')['Country'].nunique().reset_index(name = 'Country_Count')\n",
    "\n",
    "plt.bar(countries_per_continent.Continent,\n",
    "        countries_per_continent.Country_Count)\n",
    "plt.ylabel('Count')\n",
    "plt.xlabel('Continent')\n",
    "plt.title('Countries by Continent')\n",
    "plt.xticks(rotation = 90)\n",
    "plt.show()"
   ]
  },
  {
   "cell_type": "markdown",
   "id": "0e854a5e-882c-47e5-a44d-4ae6b3512962",
   "metadata": {},
   "source": [
    "### Exploring the relationship between GDP and Life Expectancy\n",
    "* Read in life expectancy data: [https://data.worldbank.org/indicator/SP.DYN.LE00.IN?name_desc=false](https://data.worldbank.org/indicator/SP.DYN.LE00.IN?name_desc=false). \n",
    "* Use [`.melt()`](https://pandas.pydata.org/docs/reference/api/pandas.melt.html) to convert your data from wide to long.\n",
    "* First country to exceed life expectancy of 80 years old\n",
    "* Find the countries that had the top 3 largest GDP per capita figures for 2021.\n",
    "* Create facet gridshowing the change in life expectancy over time for these three countries.\n",
    "* Create a scatter plot of Life Expectancy vs GDP per Capita for the year 2021.\n",
    "* Find the correlation between Life Expectancy and GDP per Capita for the year 2021.\n",
    "* Add a column to `gdp_le_2021` and calculate the logarithm of GDP per capita. Find the correlation between the log of GDP per capita and life expectancy."
   ]
  },
  {
   "cell_type": "code",
   "execution_count": 211,
   "id": "c7f2a25a-04b4-4789-bd5a-852ee1c0f394",
   "metadata": {},
   "outputs": [],
   "source": [
    "le = pd.read_csv('../data/life_exp.csv')\n",
    "le = le.drop(columns=['Country Code', 'Indicator Name', 'Indicator Code'])\n",
    "le_melt = pd.melt(le, id_vars = 'Country Name', var_name = 'Year', value_name = 'Life_exp')\n",
    "le_melt = le_melt.rename(columns = {'Country Name' : 'Country'})\n",
    "gdp_le = pd.merge(gdp, le_melt, on = ['Country','Year'], how = 'inner')"
   ]
  },
  {
   "cell_type": "code",
   "execution_count": 213,
   "id": "a3b5d7d0-9484-4926-a8cd-7e3ee4ac39c2",
   "metadata": {},
   "outputs": [
    {
     "name": "stdout",
     "output_type": "stream",
     "text": [
      "Japan was the first country to exceed a life expectancy of 80 years old\n"
     ]
    }
   ],
   "source": [
    "first_to_eighty = le_melt[le_melt['Life_exp'] >= 80]\n",
    "first_to_eighty_filtered = first_to_eighty[first_to_eighty['Year'] == first_to_eighty['Year'].min()]\n",
    "first_country = first_to_eighty_filtered.iloc[0,0]\n",
    "print(f'{first_country} was the first country to exceed a life expectancy of 80 years old')"
   ]
  },
  {
   "cell_type": "code",
   "execution_count": 215,
   "id": "ff730272-b32d-4bc2-a0cc-8be3a05da2a5",
   "metadata": {},
   "outputs": [],
   "source": [
    "gdp_le_2021 = gdp_le[gdp_le['Year'] == '2021']"
   ]
  },
  {
   "cell_type": "code",
   "execution_count": 217,
   "id": "a7ab48ce-c6d9-4007-a5be-842a9ae18613",
   "metadata": {},
   "outputs": [
    {
     "name": "stdout",
     "output_type": "stream",
     "text": [
      " In 2021 there were 33 that had a life expectancy of at least 80 years old\n"
     ]
    }
   ],
   "source": [
    "count_of_eighty = gdp_le_2021[gdp_le_2021['Life_exp']>=80]\n",
    "count_of_eighty= count_of_eighty.shape[0]\n",
    "print(f' In 2021 there were {count_of_eighty} that had a life expectancy of at least 80 years old')"
   ]
  },
  {
   "cell_type": "code",
   "execution_count": 219,
   "id": "c058eb4e-4b96-40f5-a1a7-8f079b90faa0",
   "metadata": {},
   "outputs": [
    {
     "data": {
      "image/png": "[encoded data removed]",
      "text/plain": [
       "<Figure size 911.111x300 with 3 Axes>"
      ]
     },
     "metadata": {},
     "output_type": "display_data"
    }
   ],
   "source": [
    "top_three = gdp_le_2021.nlargest(3,'GDP')['Country'].head().to_list()\n",
    "gdp_top_three = gdp_le[gdp_le['Country'].isin(top_three)]\n",
    "a = sns.FacetGrid(gdp_top_three, col = 'Country')\n",
    "a.map(sns.scatterplot,'Life_exp','GDP')\n",
    "a.add_legend();"
   ]
  },
  {
   "cell_type": "code",
   "execution_count": 221,
   "id": "f9c99300-5a89-4e93-b73d-7a54209b7d62",
   "metadata": {},
   "outputs": [
    {
     "data": {
      "image/png": "[encoded data removed]",
      "text/plain": [
       "<Figure size 600x400 with 1 Axes>"
      ]
     },
     "metadata": {},
     "output_type": "display_data"
    }
   ],
   "source": [
    "gdp_le_2021.plot(kind = 'scatter', x = 'GDP', y = 'Life_exp', figsize = (6,4))\n",
    "plt.title(' GDP v Life Exp');"
   ]
  },
  {
   "cell_type": "code",
   "execution_count": 249,
   "id": "36ab2967-314e-4108-a356-8a562333b44a",
   "metadata": {},
   "outputs": [
    {
     "name": "stdout",
     "output_type": "stream",
     "text": [
      " A correlation coefficient 0.76 indicates a strong relationship between two variables\n"
     ]
    }
   ],
   "source": [
    "corr_coef = gdp_le_2021[['Life_exp','GDP']].corr().iloc[0,1]\n",
    "corr_coef\n",
    "\n",
    "print(f' A correlation coefficient of {corr_coef:.2f} indicates a strong relationship between two variables')"
   ]
  },
  {
   "cell_type": "markdown",
   "id": "0dac9170-2796-4b94-bb5f-63fb1793d831",
   "metadata": {},
   "source": [
    "How does this compare to the calculation in the previous part? Look at a scatter plot to see if the result of this calculation makes sense."
   ]
  },
  {
   "cell_type": "code",
   "execution_count": 265,
   "id": "a5f946da-e833-4c82-adcc-0cda518e4f19",
   "metadata": {},
   "outputs": [
    {
     "ename": "SyntaxError",
     "evalue": "incomplete input (4079460695.py, line 6)",
     "output_type": "error",
     "traceback": [
      "\u001b[1;36m  Cell \u001b[1;32mIn[265], line 6\u001b[1;36m\u001b[0m\n\u001b[1;33m    print(f' Converting the GDP to a log scale increased the score to {corr_coef_log:.2f}'\u001b[0m\n\u001b[1;37m                                                                                          ^\u001b[0m\n\u001b[1;31mSyntaxError\u001b[0m\u001b[1;31m:\u001b[0m incomplete input\n"
     ]
    }
   ],
   "source": [
    "gdp_le_2021 = gdp_le_2021.copy()\n",
    "gdp_le_2021['GDP_log'] = np.log(gdp_le_2021['GDP'])\n",
    "corr_coef_log = gdp_le_2021[['Life_exp','GDP_log']].corr().iloc[0,1]\n",
    "corr_coef_log\n",
    "\n",
    "print(f' Converting the GDP to a log scale increased the score to {corr_coef_log:.2f}'"
   ]
  },
  {
   "cell_type": "code",
   "execution_count": 259,
   "id": "85c6d8ae-3653-41de-abf9-dfd8f1bcc52f",
   "metadata": {},
   "outputs": [
    {
     "data": {
      "text/html": [
       "<div>\n",
       "<style scoped>\n",
       "    .dataframe tbody tr th:only-of-type {\n",
       "        vertical-align: middle;\n",
       "    }\n",
       "\n",
       "    .dataframe tbody tr th {\n",
       "        vertical-align: top;\n",
       "    }\n",
       "\n",
       "    .dataframe thead th {\n",
       "        text-align: right;\n",
       "    }\n",
       "</style>\n",
       "<table border=\"1\" class=\"dataframe\">\n",
       "  <thead>\n",
       "    <tr style=\"text-align: right;\">\n",
       "      <th></th>\n",
       "      <th>Life_exp</th>\n",
       "      <th>GDP_log</th>\n",
       "    </tr>\n",
       "  </thead>\n",
       "  <tbody>\n",
       "    <tr>\n",
       "      <th>Life_exp</th>\n",
       "      <td>1.000000</td>\n",
       "      <td>0.857356</td>\n",
       "    </tr>\n",
       "    <tr>\n",
       "      <th>GDP_log</th>\n",
       "      <td>0.857356</td>\n",
       "      <td>1.000000</td>\n",
       "    </tr>\n",
       "  </tbody>\n",
       "</table>\n",
       "</div>"
      ],
      "text/plain": [
       "          Life_exp   GDP_log\n",
       "Life_exp  1.000000  0.857356\n",
       "GDP_log   0.857356  1.000000"
      ]
     },
     "execution_count": 259,
     "metadata": {},
     "output_type": "execute_result"
    }
   ],
   "source": []
  },
  {
   "cell_type": "code",
   "execution_count": 261,
   "id": "c6e7a180-9abe-4705-8d76-51267492ddbe",
   "metadata": {},
   "outputs": [
    {
     "data": {
      "image/png": "[encoded data removed]",
      "text/plain": [
       "<Figure size 600x400 with 1 Axes>"
      ]
     },
     "metadata": {},
     "output_type": "display_data"
    }
   ],
   "source": [
    "gdp_le_2021.plot(kind = 'scatter', x = 'GDP_log', y = 'Life_exp', figsize = (6,4))\n",
    "plt.title(' GDP v Life Exp');"
   ]
  },
  {
   "cell_type": "markdown",
   "id": "ecba26f6-c615-4ce3-9e41-26c41a43ef5e",
   "metadata": {},
   "source": [
    "### Bonus: Solo Exploration:\n",
    "1. Choose and download another data set from the UN data [http://data.un.org/Explorer.aspx](http://data.un.org/Explorer.aspx) to explore. You may want to combine your new dataset with one or both of the datasets that you already worked with. Report any interesting correlations or trends that you find. \n",
    "2.    If time allows, check out the plotly library to add additional interativity to your plots. [https://plotly.com/python/plotly-express/](https://plotly.com/python/plotly-express/)."
   ]
  },
  {
   "cell_type": "code",
   "execution_count": null,
   "id": "92514f99-3ebb-46f1-8672-6f0edac30771",
   "metadata": {},
   "outputs": [],
   "source": [
    "wmn_lbr = pd.read_csv('../Data/wmn_lbr.csv')\n",
    "wmn_lbr.head()"
   ]
  },
  {
   "cell_type": "code",
   "execution_count": null,
   "id": "dafd475d-c35f-438c-8b0d-c2e0122db58b",
   "metadata": {},
   "outputs": [],
   "source": [
    "wmn_lbr = wmn_lbr.drop(columns = ['Subgroup', 'Source', 'Unit', 'Value Footnotes'])\n",
    "wmn_lbr = wmn_lbr.rename(columns = {'Country or Area' : 'Country','Value' : 'Wmn_Lbr_Pct'})\n",
    "wmn_lbr.head()"
   ]
  },
  {
   "cell_type": "code",
   "execution_count": null,
   "id": "1cf8a9db-c8cd-415b-bc1f-b7525dffcd2c",
   "metadata": {},
   "outputs": [],
   "source": [
    "wmn_lbr['Year'] = wmn_lbr['Year'].astype(str)\n",
    "wmn_lbr['Year'] = wmn_lbr['Year'].str.replace('.0',' ')\n",
    "wmn_lbr.head()"
   ]
  },
  {
   "cell_type": "code",
   "execution_count": null,
   "id": "369f8fe8-834a-4cda-a408-e9f569a993f1",
   "metadata": {},
   "outputs": [],
   "source": [
    "wmn_lbr.dtypes"
   ]
  },
  {
   "cell_type": "code",
   "execution_count": null,
   "id": "f820a230-1d3b-42a4-86a2-5ac134c10eed",
   "metadata": {},
   "outputs": [],
   "source": [
    "gdp_le['Year'] = gdp_le['Year'].astype(str)"
   ]
  },
  {
   "cell_type": "code",
   "execution_count": null,
   "id": "acca00fd-0103-45ff-8a3c-44dec68ea9df",
   "metadata": {},
   "outputs": [],
   "source": [
    "wmn_gdp = pd.merge(wmn_lbr,gdp_le, on = ['Country','Year'], how = 'inner')\n",
    "wmn_gdp.head(2)"
   ]
  },
  {
   "cell_type": "code",
   "execution_count": null,
   "id": "c58ec74b-8ed9-4a62-85aa-3bb075d1f9bb",
   "metadata": {},
   "outputs": [],
   "source": [
    "wmn_gdp = pd.merge(wmn_gdp, continents, on = 'Country', how = 'inner')\n",
    "wmn_gdp.head()"
   ]
  },
  {
   "cell_type": "code",
   "execution_count": null,
   "id": "d98fce85-c36e-4914-be46-606838137e39",
   "metadata": {},
   "outputs": [],
   "source": [
    "wmn_gdp[['Wmn_Lbr_Pct','GDP']].corr()\n",
    "#gdp_le_2021[['Life_exp','GDP_log']].corr()"
   ]
  },
  {
   "cell_type": "code",
   "execution_count": null,
   "id": "6c27337e-a546-4331-98ea-6b29405d9a85",
   "metadata": {},
   "outputs": [],
   "source": [
    "wmn_gdp[['Wmn_Lbr_Pct','Life_exp']].corr()"
   ]
  },
  {
   "cell_type": "code",
   "execution_count": null,
   "id": "fda63fa6-523a-4ec8-9505-c5d4f3516ffc",
   "metadata": {},
   "outputs": [],
   "source": [
    "for continent in wmn_gdp['Continent'].unique():\n",
    "    subset = wmn_gdp[wmn_gdp['Continent'] == continent]\n",
    "    correlation = subset[['Wmn_Lbr_Pct', 'GDP']].corr()\n",
    "    print(continent)\n",
    "    print(correlation)\n",
    "    print(\"\\n\")"
   ]
  },
  {
   "cell_type": "code",
   "execution_count": null,
   "id": "c19a92dd-30bc-471c-ab3d-39dbb5eb9473",
   "metadata": {},
   "outputs": [],
   "source": [
    "correlation = subset[['Wmn_Lbr_Pct', 'GDP']].corr()\n",
    "correlation"
   ]
  },
  {
   "cell_type": "code",
   "execution_count": null,
   "id": "4a67faeb-557a-4372-a4aa-e74816fbe6f1",
   "metadata": {},
   "outputs": [],
   "source": [
    "asia = wmn_gdp[wmn_gdp['Continent'] == 'Asia']\n",
    "asia.head()"
   ]
  },
  {
   "cell_type": "code",
   "execution_count": null,
   "id": "aac27ac1-ec50-4e00-9a81-bef191972cd8",
   "metadata": {},
   "outputs": [],
   "source": [
    "for country in asia['Country'].unique():\n",
    "    subset = asia[asia['Country'] == country]\n",
    "    correlation = subset[['Wmn_Lbr_Pct', 'GDP']].corr()\n",
    "    print(country)\n",
    "    print(correlation)\n",
    "    print(\"\\n\")"
   ]
  },
  {
   "cell_type": "code",
   "execution_count": null,
   "id": "b4fd2d9b-5eca-4582-b145-508a6b357260",
   "metadata": {},
   "outputs": [],
   "source": [
    "results = []\n",
    "\n",
    "for country in wmn_gdp['Country'].unique():\n",
    "    subset = wmn_gdp[wmn_gdp['Country'] == country]\n",
    "    correlation = subset[['Wmn_Lbr_Pct', 'GDP']].corr().iloc[0, 1]  \n",
    "    results.append({'Country': country, 'Correlation': correlation})  \n",
    "\n",
    "\n",
    "correlation_country = pd.DataFrame(results)\n",
    "\n",
    "\n",
    "print(correlation_country)"
   ]
  },
  {
   "cell_type": "code",
   "execution_count": null,
   "id": "c0d2b5c8-270c-426c-b5ed-221bd637bd65",
   "metadata": {},
   "outputs": [],
   "source": [
    "correlation_country = pd.merge(correlation_country, continents, on = ['Country'], how = 'inner')\n",
    "correlation_country.head()"
   ]
  },
  {
   "cell_type": "code",
   "execution_count": null,
   "id": "f9af171a-37dc-46d1-90b6-64c7f2c6a482",
   "metadata": {},
   "outputs": [],
   "source": [
    "correlation_asia_sorted = correlation_asia.sort_values(by='Correlation', ascending=False)\n",
    "\n",
    "sns.barplot(data=correlation_asia_sorted, x='Country', y='Correlation', hue='Country', palette='Set1')\n",
    "plt.xticks(rotation=90)\n",
    "plt.title(\"Women in Labor Force vs. GDP in Asia (by Country)\")\n",
    "plt.show()"
   ]
  },
  {
   "cell_type": "code",
   "execution_count": null,
   "id": "c779437e-8fc0-4755-a7c9-e41e436a5503",
   "metadata": {},
   "outputs": [],
   "source": [
    "correlation_country.hist(column='Correlation',bins =10)"
   ]
  },
  {
   "cell_type": "code",
   "execution_count": null,
   "id": "d5129eb1-6fa9-4b07-a47f-afaa84656fb9",
   "metadata": {},
   "outputs": [],
   "source": [
    "correlation_country['Correlation'].describe()"
   ]
  },
  {
   "cell_type": "code",
   "execution_count": null,
   "id": "c2d85ba3-93d8-413d-9894-37fabb808831",
   "metadata": {},
   "outputs": [],
   "source": [
    "sns.boxplot(y='Continent', x='Correlation', data=correlation_country, hue='Continent', palette='Set1')\n",
    "\n",
    "\n",
    "plt.title('Box Plot of Correlation by Continent')\n",
    "plt.xlabel('Correlation Coefficient')\n",
    "plt.ylabel('Continent')\n",
    "\n",
    "\n",
    "plt.show()"
   ]
  }
 ],
 "metadata": {
  "kernelspec": {
   "display_name": "Python 3 (ipykernel)",
   "language": "python",
   "name": "python3"
  },
  "language_info": {
   "codemirror_mode": {
    "name": "ipython",
    "version": 3
   },
   "file_extension": ".py",
   "mimetype": "text/x-python",
   "name": "python",
   "nbconvert_exporter": "python",
   "pygments_lexer": "ipython3",
   "version": "3.12.4"
  }
 },
 "nbformat": 4,
 "nbformat_minor": 5
}
